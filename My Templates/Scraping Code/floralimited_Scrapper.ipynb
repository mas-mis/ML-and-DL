{
 "cells": [
  {
   "cell_type": "code",
   "execution_count": null,
   "id": "3a228bd6",
   "metadata": {},
   "outputs": [],
   "source": [
    "import requests\n",
    "from bs4 import BeautifulSoup\n",
    "import pandas as pd\n",
    "import time\n",
    "from IPython.display import display\n",
    "import json"
   ]
  },
  {
   "cell_type": "code",
   "execution_count": null,
   "id": "69fdbb8e",
   "metadata": {},
   "outputs": [],
   "source": [
    "headers = {'User-Agent': 'Mozilla/5.0 (Windows NT 10.0; Win64; x64) AppleWebKit/537.36 (KHTML, like Gecko) Chrome/89.0.4389.82 Safari/537.36r'}\n",
    "baseurl = \"https://floralimited.com\";"
   ]
  },
  {
   "cell_type": "code",
   "execution_count": null,
   "id": "283b2083",
   "metadata": {},
   "outputs": [],
   "source": [
    "r=requests.get(baseurl + \"/brands/acer/desktop\")\n",
    "soup = BeautifulSoup(r.content, 'lxml')"
   ]
  },
  {
   "cell_type": "code",
   "execution_count": null,
   "id": "4772edae",
   "metadata": {},
   "outputs": [],
   "source": [
    "brands = soup.find('select', {'id': 'BrandID'}).findAll('option')"
   ]
  },
  {
   "cell_type": "code",
   "execution_count": null,
   "id": "9e33aa03",
   "metadata": {},
   "outputs": [],
   "source": [
    "empty_file = True\n",
    "product_list = []\n",
    "for brand in brands:\n",
    "    brand_name = brand.text #attr\n",
    "    included_brands = ['Zebra']\n",
    "    brand_id = brand.attrs['value']\n",
    "    r=requests.post(baseurl + \"/product/_catagoriesbybrandid\", {'id': brand_id})\n",
    "    soup = BeautifulSoup(r.content, 'lxml')\n",
    "    categories = json.loads(soup.text)\n",
    "    for category in categories:\n",
    "        category_name = category['Text'] #attr\n",
    "        category_id = category['Value']\n",
    "        if category_name == 'All in One' and len(categories) > 1:\n",
    "            continue\n",
    "        r=requests.post(baseurl + \"/product/_gridclient\", {'Cataid': category_id, 'BrandId': brand_id, 'StokStatus':'All'})\n",
    "        soup = BeautifulSoup(r.content, 'lxml')\n",
    "        products = soup.findAll('div', {'class':'norightpadding'});\n",
    "        product_list = []\n",
    "        counter = 0;\n",
    "        print(brand_name, category_name)\n",
    "        for product in products:\n",
    "            label_div = product.find('div', {'class': 'ribbon'})\n",
    "            product_label = label_div.text if label_div else None #attr\n",
    "            product_div = product.find('div', {'class': 'product-block'})\n",
    "            image_div = product_div.find('div', {'class': 'image'})\n",
    "            product_link = image_div.find('a', href=True).attrs['href'] #attr\n",
    "            product_image = image_div.find('img').attrs['data-src'] #attr\n",
    "            info_div = product_div.find('div', {'class': 'product-meta'})\n",
    "            product_name = info_div.find('div', {'class': 'name'}).text #attr\n",
    "            product_spec = info_div.find('div', {'class': 'spec'}).text #attr\n",
    "            product_big_price_old_div = info_div.find('div', {'class': 'big-price'}).find('span', {'class': 'price-old'})\n",
    "            product_big_price_new_div = info_div.find('div', {'class': 'big-price'}).find('span', {'class': 'price-new'})\n",
    "            product_big_price = product_big_price_old_div.text if product_big_price_old_div else product_big_price_new_div.text #attr\n",
    "            product_small_price = info_div.find('div', {'class': 'small-price'}).text #attr\n",
    "            product_rating_div = info_div.find('div', {'class': 'rating'})\n",
    "            product_rating = len(product_rating_div.findAll('i', {'class': 'fa-star'})) + (len(product_rating_div.findAll('i', {'class': 'fa-star-half-o'})) * 0.5) #attr\n",
    "            product = {\n",
    "                'category_name': category_name,\n",
    "                'brand_name': brand_name,\n",
    "                'label': product_label,\n",
    "                'link': product_link,\n",
    "                'image': product_image,\n",
    "                'name': product_name,\n",
    "                'spec': product_spec,\n",
    "                'big_price': product_big_price,\n",
    "                'small_price': product_small_price,\n",
    "                'rating': product_rating\n",
    "            }\n",
    "            r=requests.get(baseurl + product_link)\n",
    "            soup = BeautifulSoup(r.content, 'lxml')\n",
    "            info_div = soup.find('div', {'class': 'tab-content'})\n",
    "            if info_div != None:\n",
    "                info_div = info_div.find('div', {'id': 'details-info'})\n",
    "                product_description_title = info_div.find('p').text #attr\n",
    "                product_description = info_div.find('table').text #attr\n",
    "                product['description_title'] = product_description_title\n",
    "                product['description'] = product_description\n",
    "                counter += 1\n",
    "                print(counter)\n",
    "            product_list.append(product)\n",
    "        df = pd.DataFrame(product_list)\n",
    "        df.to_csv('floralimited_2021101523_1.csv', mode='a', header=empty_file)\n",
    "        empty_file = False\n",
    "        print(category_name, '=>', brand_name)"
   ]
  },
  {
   "cell_type": "code",
   "execution_count": null,
   "id": "e6d57d59",
   "metadata": {},
   "outputs": [],
   "source": []
  }
 ],
 "metadata": {
  "kernelspec": {
   "display_name": "Python 3 (ipykernel)",
   "language": "python",
   "name": "python3"
  },
  "language_info": {
   "codemirror_mode": {
    "name": "ipython",
    "version": 3
   },
   "file_extension": ".py",
   "mimetype": "text/x-python",
   "name": "python",
   "nbconvert_exporter": "python",
   "pygments_lexer": "ipython3",
   "version": "3.9.7"
  }
 },
 "nbformat": 4,
 "nbformat_minor": 5
}
