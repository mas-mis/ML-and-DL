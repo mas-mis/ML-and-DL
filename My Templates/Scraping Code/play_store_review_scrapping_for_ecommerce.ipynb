{
  "nbformat": 4,
  "nbformat_minor": 0,
  "metadata": {
    "colab": {
      "name": "play-store-review-scrapping-for-ecommerce.ipynb",
      "provenance": [],
      "collapsed_sections": [],
      "authorship_tag": "ABX9TyO72zBu5lxQPakNnn7RxTyS",
      "include_colab_link": true
    },
    "kernelspec": {
      "name": "python3",
      "display_name": "Python 3"
    },
    "language_info": {
      "name": "python"
    }
  },
  "cells": [
    {
      "cell_type": "markdown",
      "metadata": {
        "id": "view-in-github",
        "colab_type": "text"
      },
      "source": [
        "<a href=\"https://colab.research.google.com/github/OmdenaAI/omdena-bangladesh-market-place/blob/task-1/src/tasks/task-1-data-collection/play_store_review_scrapping_for_ecommerce.ipynb\" target=\"_parent\"><img src=\"https://colab.research.google.com/assets/colab-badge.svg\" alt=\"Open In Colab\"/></a>"
      ]
    },
    {
      "cell_type": "markdown",
      "metadata": {
        "id": "hzQIV-_vRG4x"
      },
      "source": [
        "Google play scraper is a python library to scrap data from only google play store. We are going to use this to scrap reviews in various ecommerce site apps. Here is the github project link of the library.\n",
        "https://github.com/JoMingyu/google-play-scraper"
      ]
    },
    {
      "cell_type": "code",
      "metadata": {
        "id": "Eaf8tCcPRCWx"
      },
      "source": [
        "!pip install google-play-scraper"
      ],
      "execution_count": null,
      "outputs": []
    },
    {
      "cell_type": "code",
      "metadata": {
        "id": "A4ueiefyReMc"
      },
      "source": [
        "import pandas as pd\n",
        "from google_play_scraper import Sort, reviews, app"
      ],
      "execution_count": null,
      "outputs": []
    },
    {
      "cell_type": "code",
      "metadata": {
        "id": "-q0oxP4HRe4h"
      },
      "source": [
        "# listing the play store app id's of the ecommerce sites\n",
        "\n",
        "ecommerce_sites_apps = [\n",
        "    \"com.chaldal.poached\",\n",
        "    \"com.daraz.android\",\n",
        "    \"com.pickaboo.app\",\n",
        "    \"com.ajkerdeal.app.android\",\n",
        "    \"com.rokomari\",\n",
        "    \"com.priyoshop.companion\",\n",
        "    \"com.bikroy\",\n",
        "    \"xyz.sheba.customersapp\",\n",
        "]"
      ],
      "execution_count": null,
      "outputs": []
    },
    {
      "cell_type": "code",
      "metadata": {
        "id": "0Ya2RMqqWTdG"
      },
      "source": [
        "app_infos = []\n",
        "\n",
        "for ap in ecommerce_sites_apps:\n",
        "  info = app(ap, lang='en', country='us')\n",
        "  del info['comments']\n",
        "  app_infos.append(info)"
      ],
      "execution_count": null,
      "outputs": []
    },
    {
      "cell_type": "code",
      "metadata": {
        "id": "SJkzcWdjXKXU"
      },
      "source": [
        "app_reviews = []\n",
        "\n",
        "for ap in ecommerce_sites_apps:\n",
        "  for score in list(range(6)):\n",
        "    for sort_order in [Sort.MOST_RELEVANT, Sort.NEWEST]:\n",
        "      result, token = reviews(\n",
        "        ap,\n",
        "        lang='en',\n",
        "        country='us',\n",
        "        sort=sort_order,\n",
        "        count= 200,\n",
        "        filter_score_with=score\n",
        "      )\n",
        "      for r in result:\n",
        "        r['sortOrder'] = 'most_relevant' if sort_order == Sort.MOST_RELEVANT else 'newest'\n",
        "        r['appId'] = ap\n",
        "      app_reviews.extend(result)"
      ],
      "execution_count": null,
      "outputs": []
    },
    {
      "cell_type": "code",
      "metadata": {
        "id": "9NgY6w2xdao6"
      },
      "source": [
        "# app_reviews is a list of dictionary which contains various datas of particular review as key value pair\n",
        "# We are interested in some of the attributes of the reviews\n",
        "df = pd.DataFrame(app_reviews)"
      ],
      "execution_count": null,
      "outputs": []
    },
    {
      "cell_type": "code",
      "metadata": {
        "id": "UE4PoqaZwhjL"
      },
      "source": [
        "df_final = df[[\"appId\", \"at\", \"content\", \"score\"]]"
      ],
      "execution_count": null,
      "outputs": []
    },
    {
      "cell_type": "code",
      "metadata": {
        "id": "xgHuv2c7wx7M"
      },
      "source": [
        "df_final.head()"
      ],
      "execution_count": null,
      "outputs": []
    },
    {
      "cell_type": "code",
      "metadata": {
        "id": "RsQsS5Pd4ZS9"
      },
      "source": [
        "changed_name = \\\n",
        "{\n",
        "    \"com.daraz.android\":\"Daraz\", \n",
        "    \"com.bikroy\":\"Bikroy\",\n",
        "    \"com.ajkerdeal.app.android\":\"Ajkerdeal\",\n",
        "    \"com.chaldal.poached\":\"Chaldal\",\n",
        "    \"com.rokomari\":\"rokomari\",\n",
        "    \"com.pickaboo.app\":\"Pickaboo\",\n",
        "    \"xyz.sheba.customersapp\":\"Shebaxyz\",\n",
        "    \"com.priyoshop.companion\":\"Priyoshop\"\n",
        "}"
      ],
      "execution_count": null,
      "outputs": []
    },
    {
      "cell_type": "code",
      "metadata": {
        "id": "kRY619x65VVg"
      },
      "source": [
        "df_final[\"appId\"].replace(changed_name, inplace=True)"
      ],
      "execution_count": null,
      "outputs": []
    },
    {
      "cell_type": "code",
      "metadata": {
        "id": "Jwpoq9WTw86N"
      },
      "source": [
        "# checking for duplicate reviews those have been extracted more than once\n",
        "\n",
        "df_final[df_final.duplicate(['content'])]"
      ],
      "execution_count": null,
      "outputs": []
    },
    {
      "cell_type": "code",
      "metadata": {
        "id": "6nHTejwk-Xce"
      },
      "source": [
        "# dropping duplicate values\n",
        "\n",
        "df_final.drop_duplicates(subset=\"content\", keep=\"first\", inplace=True)"
      ],
      "execution_count": null,
      "outputs": []
    },
    {
      "cell_type": "code",
      "metadata": {
        "id": "ir2uru2k-0Ly"
      },
      "source": [
        "df_final.shape"
      ],
      "execution_count": null,
      "outputs": []
    },
    {
      "cell_type": "code",
      "metadata": {
        "id": "mkLgcB_V-3OZ"
      },
      "source": [
        "# Checking which ecommerce site has how many reviews\n",
        "\n",
        "df_final.appId.value_counts()"
      ],
      "execution_count": null,
      "outputs": []
    },
    {
      "cell_type": "code",
      "metadata": {
        "id": "4pVFUw2b-_w8"
      },
      "source": [
        "# checking random reviews\n",
        "\n",
        "df_final.iloc[7777].content"
      ],
      "execution_count": null,
      "outputs": []
    },
    {
      "cell_type": "code",
      "metadata": {
        "id": "HEuQ8dy-_u3_"
      },
      "source": [
        "# saving the dataframe as a csv file\n",
        "# df_final.to_csv('play_store_ecommerce_review.csv')"
      ],
      "execution_count": null,
      "outputs": []
    }
  ]
}