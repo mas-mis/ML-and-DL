{
 "cells": [
  {
   "cell_type": "markdown",
   "metadata": {},
   "source": [
    "# Web Scraping from [Othoba.com](https://www.othoba.com \"https://www.othoba.com\")"
   ]
  },
  {
   "cell_type": "code",
   "execution_count": 1,
   "metadata": {},
   "outputs": [],
   "source": [
    "import pandas as pd\n",
    "import numpy as np\n",
    "\n",
    "import requests\n",
    "from bs4 import BeautifulSoup\n",
    "import json\n",
    "\n",
    "import math"
   ]
  },
  {
   "cell_type": "code",
   "execution_count": 2,
   "metadata": {},
   "outputs": [],
   "source": [
    "baseUrl = \"https://www.othoba.com\"\n",
    "headers = {'User-Agent': 'Mozilla/5.0 (Windows NT 10.0; Win64; x64) AppleWebKit/537.36 (KHTML, like Gecko) Chrome/89.0.4389.82 Safari/537.36'}"
   ]
  },
  {
   "cell_type": "markdown",
   "metadata": {},
   "source": [
    "#### utility function-1: `find_content()`"
   ]
  },
  {
   "cell_type": "code",
   "execution_count": 3,
   "metadata": {},
   "outputs": [],
   "source": [
    "def find_content(url):\n",
    "    r = requests.get(url, headers = headers)\n",
    "    return BeautifulSoup(r.content, \"lxml\")"
   ]
  },
  {
   "cell_type": "markdown",
   "metadata": {},
   "source": [
    "### 1. Collecting categories from the home page"
   ]
  },
  {
   "cell_type": "code",
   "execution_count": 4,
   "metadata": {},
   "outputs": [],
   "source": [
    "catLinks = []\n",
    "soup = find_content(baseUrl)\n",
    "for tag in soup.find_all(\"a\", {\"class\":\"cl-1\"}):\n",
    "    catLinks.append(baseUrl + tag.get(\"href\"))"
   ]
  },
  {
   "cell_type": "code",
   "execution_count": 5,
   "metadata": {},
   "outputs": [
    {
     "data": {
      "text/plain": [
       "11"
      ]
     },
     "execution_count": 5,
     "metadata": {},
     "output_type": "execute_result"
    }
   ],
   "source": [
    "len(catLinks)"
   ]
  },
  {
   "cell_type": "markdown",
   "metadata": {},
   "source": [
    "### 2. Collecting sub-categories\n",
    "\n",
    "If no sub-category is found, then append the category itself in the sub-category"
   ]
  },
  {
   "cell_type": "code",
   "execution_count": 6,
   "metadata": {},
   "outputs": [
    {
     "name": "stdout",
     "output_type": "stream",
     "text": [
      "https://www.othoba.com/men\n",
      "https://www.othoba.com/womens-fashion\n",
      "https://www.othoba.com/baby-kids\n",
      "https://www.othoba.com/food-grocery\n",
      "https://www.othoba.com/mobile\n",
      "https://www.othoba.com/home-living\n",
      "https://www.othoba.com/electronics\n",
      "https://www.othoba.com/books-stationery\n",
      "https://www.othoba.com/chocolate-candy\n",
      "https://www.othoba.com/o-biz\n",
      "https://www.othoba.com/miscellaneous\n",
      "Wall time: 7.17 s\n"
     ]
    }
   ],
   "source": [
    "%%time\n",
    "\n",
    "subCategoryLinks = []\n",
    "noSubCategory = []\n",
    "\n",
    "for link in catLinks:\n",
    "    print(link) #to check all the categories have been iterated\n",
    "    soup = find_content(link)\n",
    "    productlist = soup.find_all(\"div\", class_=\"item-box\")\n",
    "\n",
    "    for item in productlist:\n",
    "        if(item.find(\"h2\", {\"class\":\"title\"})):\n",
    "            info = item.find(\"h2\", {\"class\":\"title\"})\n",
    "            for link in info.find_all(\"a\", href=True):\n",
    "                subCategoryLinks.append(baseUrl + link[\"href\"])\n",
    "        elif(link not in noSubCategory):\n",
    "            noSubCategory.append(link)\n",
    "            \n",
    "for val in noSubCategory:\n",
    "    subCategoryLinks.append(val)"
   ]
  },
  {
   "cell_type": "code",
   "execution_count": 7,
   "metadata": {},
   "outputs": [
    {
     "data": {
      "text/plain": [
       "(77, 1)"
      ]
     },
     "execution_count": 7,
     "metadata": {},
     "output_type": "execute_result"
    }
   ],
   "source": [
    "len(subCategoryLinks), len(noSubCategory)"
   ]
  },
  {
   "cell_type": "markdown",
   "metadata": {},
   "source": [
    "### 3. Collecting all the product links using the `subCategoryLinks`"
   ]
  },
  {
   "cell_type": "code",
   "execution_count": 12,
   "metadata": {},
   "outputs": [
    {
     "name": "stdout",
     "output_type": "stream",
     "text": [
      "Wall time: 8min 3s\n"
     ]
    }
   ],
   "source": [
    "%%time\n",
    "productLinks = []\n",
    "\n",
    "for link in subCategoryLinks:\n",
    "    soup1 = find_content(link)\n",
    "    \n",
    "    if(soup1.find(\"span\", {\"id\":\"product-count\"})):\n",
    "        itemNumber = int(soup1.find(\"span\", {\"id\":\"product-count\"}).text.strip())\n",
    "        for page in range(math.ceil(itemNumber/48)):\n",
    "            soup2 = find_content(link + f\"?pagenumber={page+1}\")\n",
    "            productList = soup2.find_all(\"div\", class_=\"product-item\")\n",
    "\n",
    "            for item in productList:\n",
    "                info = item.find(\"h2\", {\"class\":\"product-title\"})\n",
    "                for tag in info.find_all(\"a\", href=True):\n",
    "                    productLinks.append(baseUrl + tag[\"href\"])"
   ]
  },
  {
   "cell_type": "code",
   "execution_count": 15,
   "metadata": {},
   "outputs": [
    {
     "data": {
      "text/plain": [
       "30881"
      ]
     },
     "execution_count": 15,
     "metadata": {},
     "output_type": "execute_result"
    }
   ],
   "source": [
    "len(productLinks)"
   ]
  },
  {
   "cell_type": "code",
   "execution_count": 32,
   "metadata": {},
   "outputs": [],
   "source": [
    "finalProductData = []"
   ]
  },
  {
   "cell_type": "markdown",
   "metadata": {},
   "source": [
    "#### utility function-2: `product_data()`\n",
    "\n",
    "Using the product link, it will collect 7 features:\n",
    "1. Product Category\n",
    "2. Product Sub-Category\n",
    "3. Product Name\n",
    "4. Product Brand\n",
    "5. Product Seller\n",
    "6. Product Price\n",
    "7. Shipping Price\n",
    "\n",
    "If any of the features are unavailable for the product, then the value will be assigned `None`"
   ]
  },
  {
   "cell_type": "code",
   "execution_count": 16,
   "metadata": {},
   "outputs": [],
   "source": [
    "def product_data(pLinks):\n",
    "    data = []\n",
    "\n",
    "    for link in pLinks:\n",
    "        soup = find_content(link)\n",
    "\n",
    "        if(soup.find(\"div\", {\"class\":\"product-name\"})):\n",
    "            productName = soup.find(\"div\", {\"class\":\"product-name\"}).text.strip()\n",
    "        else:\n",
    "            productName = None\n",
    "\n",
    "        if(soup.find(\"span\", {\"itemprop\":\"name\", \"class\":\"value\"})):\n",
    "            productBrand = soup.find(\"span\", {\"itemprop\":\"name\", \"class\":\"value\"}).text.strip()\n",
    "        else:\n",
    "            productBrand = None\n",
    "\n",
    "        if(soup.find(\"div\", { \"class\":\"product-vendor\"})):\n",
    "            findSeller = soup.find(\"div\", { \"class\":\"product-vendor\"})\n",
    "            productSeller = findSeller.find(\"span\", { \"class\":\"value\"}).text.strip()\n",
    "        else:\n",
    "            productSeller = None\n",
    "\n",
    "        if(soup.find(\"span\", { \"itemprop\":\"price\"})):\n",
    "            productPrice = soup.find(\"span\", { \"itemprop\":\"price\"}).text.strip()\n",
    "        else:\n",
    "            productPrice = None\n",
    "\n",
    "        if(soup.find(\"p\", { \"class\":\"delivery-charge no-free-ship\"})):\n",
    "            shippingPrice = soup.find(\"p\", { \"class\":\"delivery-charge no-free-ship\"}).text.strip()\n",
    "        else:\n",
    "            shippingPrice = None\n",
    "\n",
    "        if(soup.find(\"div\", {\"class\":\"breadcrumb\"})):\n",
    "            findCategory = soup.find(\"div\", {\"class\":\"breadcrumb\"})\n",
    "            category = findCategory.find_all(\"a\", href=True)\n",
    "            productCategory = category[1][\"href\"][1:]\n",
    "            productSubCategory = category[2][\"href\"][1:] if(len(category) > 2) else None\n",
    "        else:\n",
    "            productCategory, productSubCategory = None, None\n",
    "\n",
    "        product = {\n",
    "            \"Category\": productCategory,\n",
    "            \"subCategory\": productSubCategory,\n",
    "            \"Name\": productName,\n",
    "            \"Brand\": productBrand,\n",
    "            \"Seller\": productSeller,\n",
    "            \"Price\": productPrice,\n",
    "            \"shippingPrice\": shippingPrice\n",
    "        }\n",
    "\n",
    "        data.append(product)\n",
    "        \n",
    "    return data"
   ]
  },
  {
   "cell_type": "markdown",
   "metadata": {},
   "source": [
    "### 4. Data Collection\n",
    "\n",
    "As there are about 30,000+ sub-categories, data is collected by dividing all of the sub-categories into 6 parts. Because there will be error from the website for lots of requests."
   ]
  },
  {
   "cell_type": "markdown",
   "metadata": {},
   "source": [
    "**Data Collection Date:  15-Oct-2021**"
   ]
  },
  {
   "cell_type": "code",
   "execution_count": 34,
   "metadata": {},
   "outputs": [
    {
     "name": "stdout",
     "output_type": "stream",
     "text": [
      "Wall time: 1h 47min 14s\n"
     ]
    }
   ],
   "source": [
    "%%time\n",
    "finalProductData1of6 = product_data(productLinks[:5000])"
   ]
  },
  {
   "cell_type": "code",
   "execution_count": 35,
   "metadata": {},
   "outputs": [
    {
     "data": {
      "text/html": [
       "<div>\n",
       "<style scoped>\n",
       "    .dataframe tbody tr th:only-of-type {\n",
       "        vertical-align: middle;\n",
       "    }\n",
       "\n",
       "    .dataframe tbody tr th {\n",
       "        vertical-align: top;\n",
       "    }\n",
       "\n",
       "    .dataframe thead th {\n",
       "        text-align: right;\n",
       "    }\n",
       "</style>\n",
       "<table border=\"1\" class=\"dataframe\">\n",
       "  <thead>\n",
       "    <tr style=\"text-align: right;\">\n",
       "      <th></th>\n",
       "      <th>Category</th>\n",
       "      <th>subCategory</th>\n",
       "      <th>Name</th>\n",
       "      <th>Brand</th>\n",
       "      <th>Seller</th>\n",
       "      <th>Price</th>\n",
       "      <th>shippingPrice</th>\n",
       "    </tr>\n",
       "  </thead>\n",
       "  <tbody>\n",
       "    <tr>\n",
       "      <td>0</td>\n",
       "      <td>men</td>\n",
       "      <td>mens-clothing</td>\n",
       "      <td>Men's Button Polo Shirt Red</td>\n",
       "      <td>None</td>\n",
       "      <td>Ecohutt</td>\n",
       "      <td>Tk 250</td>\n",
       "      <td>Tk 50</td>\n",
       "    </tr>\n",
       "    <tr>\n",
       "      <td>1</td>\n",
       "      <td>men</td>\n",
       "      <td>mens-clothing</td>\n",
       "      <td>Men's Button Polo Shirt Olive</td>\n",
       "      <td>None</td>\n",
       "      <td>Ecohutt</td>\n",
       "      <td>Tk 250</td>\n",
       "      <td>Tk 50</td>\n",
       "    </tr>\n",
       "    <tr>\n",
       "      <td>2</td>\n",
       "      <td>men</td>\n",
       "      <td>mens-clothing</td>\n",
       "      <td>Men's Button Polo Shirt Blue</td>\n",
       "      <td>None</td>\n",
       "      <td>Ecohutt</td>\n",
       "      <td>Tk 250</td>\n",
       "      <td>Tk 50</td>\n",
       "    </tr>\n",
       "  </tbody>\n",
       "</table>\n",
       "</div>"
      ],
      "text/plain": [
       "  Category    subCategory                           Name Brand   Seller  \\\n",
       "0      men  mens-clothing    Men's Button Polo Shirt Red  None  Ecohutt   \n",
       "1      men  mens-clothing  Men's Button Polo Shirt Olive  None  Ecohutt   \n",
       "2      men  mens-clothing   Men's Button Polo Shirt Blue  None  Ecohutt   \n",
       "\n",
       "    Price shippingPrice  \n",
       "0  Tk 250         Tk 50  \n",
       "1  Tk 250         Tk 50  \n",
       "2  Tk 250         Tk 50  "
      ]
     },
     "execution_count": 35,
     "metadata": {},
     "output_type": "execute_result"
    }
   ],
   "source": [
    "df1of6 = pd.DataFrame(finalProductData1of6)\n",
    "df1of6.head(3)"
   ]
  },
  {
   "cell_type": "code",
   "execution_count": 36,
   "metadata": {},
   "outputs": [],
   "source": [
    "df1of6.to_csv(\"df1of6.csv\", index=False)"
   ]
  },
  {
   "cell_type": "code",
   "execution_count": 47,
   "metadata": {},
   "outputs": [
    {
     "data": {
      "text/plain": [
       "5000"
      ]
     },
     "execution_count": 47,
     "metadata": {},
     "output_type": "execute_result"
    }
   ],
   "source": [
    "finalProductData2of6 = product_data(productLinks[5000:10000])\n",
    "\n",
    "len(finalProductData2of6)"
   ]
  },
  {
   "cell_type": "code",
   "execution_count": 48,
   "metadata": {},
   "outputs": [
    {
     "data": {
      "text/html": [
       "<div>\n",
       "<style scoped>\n",
       "    .dataframe tbody tr th:only-of-type {\n",
       "        vertical-align: middle;\n",
       "    }\n",
       "\n",
       "    .dataframe tbody tr th {\n",
       "        vertical-align: top;\n",
       "    }\n",
       "\n",
       "    .dataframe thead th {\n",
       "        text-align: right;\n",
       "    }\n",
       "</style>\n",
       "<table border=\"1\" class=\"dataframe\">\n",
       "  <thead>\n",
       "    <tr style=\"text-align: right;\">\n",
       "      <th></th>\n",
       "      <th>Category</th>\n",
       "      <th>subCategory</th>\n",
       "      <th>Name</th>\n",
       "      <th>Brand</th>\n",
       "      <th>Seller</th>\n",
       "      <th>Price</th>\n",
       "      <th>shippingPrice</th>\n",
       "    </tr>\n",
       "  </thead>\n",
       "  <tbody>\n",
       "    <tr>\n",
       "      <td>0</td>\n",
       "      <td>womens-fashion</td>\n",
       "      <td>beauty-care</td>\n",
       "      <td>Rasasi Junoon Satin Pour Femme EDP 50 Ml For W...</td>\n",
       "      <td>Rasasi</td>\n",
       "      <td>Perfume Bangladesh</td>\n",
       "      <td>Tk 8000</td>\n",
       "      <td>Tk 50</td>\n",
       "    </tr>\n",
       "    <tr>\n",
       "      <td>1</td>\n",
       "      <td>womens-fashion</td>\n",
       "      <td>beauty-care</td>\n",
       "      <td>Rasasi Afshana EDP 100ml For Women</td>\n",
       "      <td>Rasasi</td>\n",
       "      <td>Perfume Bangladesh</td>\n",
       "      <td>Tk 1400</td>\n",
       "      <td>Tk 50</td>\n",
       "    </tr>\n",
       "    <tr>\n",
       "      <td>2</td>\n",
       "      <td>womens-fashion</td>\n",
       "      <td>beauty-care</td>\n",
       "      <td>Parachute SkinPure Beauty Olive Oil 200ml</td>\n",
       "      <td>Marico Bangladesh</td>\n",
       "      <td>Marico Bangladesh Ltd.</td>\n",
       "      <td>Tk 250</td>\n",
       "      <td>Tk 50</td>\n",
       "    </tr>\n",
       "  </tbody>\n",
       "</table>\n",
       "</div>"
      ],
      "text/plain": [
       "         Category  subCategory  \\\n",
       "0  womens-fashion  beauty-care   \n",
       "1  womens-fashion  beauty-care   \n",
       "2  womens-fashion  beauty-care   \n",
       "\n",
       "                                                Name              Brand  \\\n",
       "0  Rasasi Junoon Satin Pour Femme EDP 50 Ml For W...             Rasasi   \n",
       "1                 Rasasi Afshana EDP 100ml For Women             Rasasi   \n",
       "2          Parachute SkinPure Beauty Olive Oil 200ml  Marico Bangladesh   \n",
       "\n",
       "                   Seller    Price shippingPrice  \n",
       "0      Perfume Bangladesh  Tk 8000         Tk 50  \n",
       "1      Perfume Bangladesh  Tk 1400         Tk 50  \n",
       "2  Marico Bangladesh Ltd.   Tk 250         Tk 50  "
      ]
     },
     "execution_count": 48,
     "metadata": {},
     "output_type": "execute_result"
    }
   ],
   "source": [
    "df2of6 = pd.DataFrame(finalProductData2of6)\n",
    "df2of6.head(3)"
   ]
  },
  {
   "cell_type": "code",
   "execution_count": 49,
   "metadata": {},
   "outputs": [],
   "source": [
    "df2of6.to_csv(\"df2of6.csv\", index=False)"
   ]
  },
  {
   "cell_type": "markdown",
   "metadata": {},
   "source": [
    "**Data Collection Date: 16-Oct-2021**"
   ]
  },
  {
   "cell_type": "code",
   "execution_count": 50,
   "metadata": {},
   "outputs": [
    {
     "name": "stdout",
     "output_type": "stream",
     "text": [
      "Wall time: 29min 18s\n"
     ]
    }
   ],
   "source": [
    "%%time\n",
    "productData1of5of3of6 = product_data(productLinks[10000:11000])"
   ]
  },
  {
   "cell_type": "code",
   "execution_count": 51,
   "metadata": {},
   "outputs": [
    {
     "name": "stdout",
     "output_type": "stream",
     "text": [
      "Wall time: 19min 26s\n"
     ]
    }
   ],
   "source": [
    "%%time\n",
    "productData2of5of3of6 = product_data(productLinks[11000:12000])"
   ]
  },
  {
   "cell_type": "code",
   "execution_count": 53,
   "metadata": {},
   "outputs": [],
   "source": [
    "productData3of5of3of6 = product_data(productLinks[12000:13000])"
   ]
  },
  {
   "cell_type": "code",
   "execution_count": 1,
   "metadata": {},
   "outputs": [],
   "source": [
    "productData4of5of3of6 = product_data(productLinks[13000:14000])"
   ]
  },
  {
   "cell_type": "code",
   "execution_count": 2,
   "metadata": {},
   "outputs": [],
   "source": [
    "productData5of5of3of6 = product_data(productLinks[14000:15000])"
   ]
  },
  {
   "cell_type": "code",
   "execution_count": 70,
   "metadata": {},
   "outputs": [],
   "source": [
    "finalProductData3of6 = (productData1of5of3of6 + productData2of5of3of6 + productData3of5of3of6 +\n",
    "                       productData4of5of3of6 + productData5of5of3of6)"
   ]
  },
  {
   "cell_type": "code",
   "execution_count": 71,
   "metadata": {},
   "outputs": [
    {
     "data": {
      "text/html": [
       "<div>\n",
       "<style scoped>\n",
       "    .dataframe tbody tr th:only-of-type {\n",
       "        vertical-align: middle;\n",
       "    }\n",
       "\n",
       "    .dataframe tbody tr th {\n",
       "        vertical-align: top;\n",
       "    }\n",
       "\n",
       "    .dataframe thead th {\n",
       "        text-align: right;\n",
       "    }\n",
       "</style>\n",
       "<table border=\"1\" class=\"dataframe\">\n",
       "  <thead>\n",
       "    <tr style=\"text-align: right;\">\n",
       "      <th></th>\n",
       "      <th>Category</th>\n",
       "      <th>subCategory</th>\n",
       "      <th>Name</th>\n",
       "      <th>Brand</th>\n",
       "      <th>Seller</th>\n",
       "      <th>Price</th>\n",
       "      <th>shippingPrice</th>\n",
       "    </tr>\n",
       "  </thead>\n",
       "  <tbody>\n",
       "    <tr>\n",
       "      <td>0</td>\n",
       "      <td>home-living</td>\n",
       "      <td>furniture</td>\n",
       "      <td>Decorate Chair Tube Rose T Red</td>\n",
       "      <td>RFL Furniture</td>\n",
       "      <td>Best Buy</td>\n",
       "      <td>Tk 510</td>\n",
       "      <td>Free Shipping</td>\n",
       "    </tr>\n",
       "    <tr>\n",
       "      <td>1</td>\n",
       "      <td>home-living</td>\n",
       "      <td>furniture</td>\n",
       "      <td>Rodo Casual Chair -Orange BB88720</td>\n",
       "      <td>RFL Furniture</td>\n",
       "      <td>Best Buy</td>\n",
       "      <td>Tk 1350</td>\n",
       "      <td>Free Shipping</td>\n",
       "    </tr>\n",
       "    <tr>\n",
       "      <td>2</td>\n",
       "      <td>home-living</td>\n",
       "      <td>furniture</td>\n",
       "      <td>Amass Closet 4 Drawer Sunflower</td>\n",
       "      <td>RFL Houseware</td>\n",
       "      <td>Best Buy</td>\n",
       "      <td>Tk 2875</td>\n",
       "      <td>Free Shipping</td>\n",
       "    </tr>\n",
       "    <tr>\n",
       "      <td>3</td>\n",
       "      <td>home-living</td>\n",
       "      <td>furniture</td>\n",
       "      <td>Royal Kitchen Shelf Trendy 2 Door Blue</td>\n",
       "      <td>RFL Furniture</td>\n",
       "      <td>Best Buy</td>\n",
       "      <td>Tk 4200</td>\n",
       "      <td>Free Shipping</td>\n",
       "    </tr>\n",
       "    <tr>\n",
       "      <td>4</td>\n",
       "      <td>home-living</td>\n",
       "      <td>furniture</td>\n",
       "      <td>Chair Dining Super Tree Rose Wood</td>\n",
       "      <td>RFL Furniture</td>\n",
       "      <td>Best Buy</td>\n",
       "      <td>Tk 475</td>\n",
       "      <td>Free Shipping</td>\n",
       "    </tr>\n",
       "  </tbody>\n",
       "</table>\n",
       "</div>"
      ],
      "text/plain": [
       "      Category subCategory                                    Name  \\\n",
       "0  home-living   furniture          Decorate Chair Tube Rose T Red   \n",
       "1  home-living   furniture       Rodo Casual Chair -Orange BB88720   \n",
       "2  home-living   furniture         Amass Closet 4 Drawer Sunflower   \n",
       "3  home-living   furniture  Royal Kitchen Shelf Trendy 2 Door Blue   \n",
       "4  home-living   furniture       Chair Dining Super Tree Rose Wood   \n",
       "\n",
       "           Brand    Seller    Price  shippingPrice  \n",
       "0  RFL Furniture  Best Buy   Tk 510  Free Shipping  \n",
       "1  RFL Furniture  Best Buy  Tk 1350  Free Shipping  \n",
       "2  RFL Houseware  Best Buy  Tk 2875  Free Shipping  \n",
       "3  RFL Furniture  Best Buy  Tk 4200  Free Shipping  \n",
       "4  RFL Furniture  Best Buy   Tk 475  Free Shipping  "
      ]
     },
     "execution_count": 71,
     "metadata": {},
     "output_type": "execute_result"
    }
   ],
   "source": [
    "df3of6 = pd.DataFrame(finalProductData3of6)\n",
    "df3of6.head()"
   ]
  },
  {
   "cell_type": "code",
   "execution_count": 72,
   "metadata": {},
   "outputs": [],
   "source": [
    "df3of6.to_csv(\"df3of6.csv\", index=False)"
   ]
  },
  {
   "cell_type": "code",
   "execution_count": null,
   "metadata": {},
   "outputs": [],
   "source": [
    "finalProductData4of6 = product_data(productLinks[15000:20000])\n",
    "\n",
    "df4of6 = pd.DataFrame(finalProductData4of6)\n",
    "\n",
    "df4of6.to_csv(\"df4of6.csv\", index=False)"
   ]
  },
  {
   "cell_type": "code",
   "execution_count": null,
   "metadata": {},
   "outputs": [],
   "source": [
    "finalProductData5of6 = product_data(productLinks[20000:25000])\n",
    "\n",
    "df5of6 = pd.DataFrame(finalProductData5of6)\n",
    "\n",
    "df5of6.to_csv(\"df5of6.csv\", index=False)"
   ]
  },
  {
   "cell_type": "code",
   "execution_count": null,
   "metadata": {},
   "outputs": [],
   "source": [
    "finalProductData6of6 = product_data(productLinks[25000:])\n",
    "\n",
    "df6of6 = pd.DataFrame(finalProductData6of6)\n",
    "\n",
    "df6of6.to_csv(\"df6of6.csv\", index=False)"
   ]
  },
  {
   "cell_type": "markdown",
   "metadata": {},
   "source": [
    "### 4.2. Merge all the collected data in a single dataframe\n",
    "\n",
    "**Date: 17-Oct-2021**"
   ]
  },
  {
   "cell_type": "code",
   "execution_count": 35,
   "metadata": {},
   "outputs": [
    {
     "data": {
      "text/plain": [
       "(5000, 5000, 5000, 5000, 5000)"
      ]
     },
     "execution_count": 35,
     "metadata": {},
     "output_type": "execute_result"
    }
   ],
   "source": [
    "df1of6 = pd.read_csv(\"data/df1of6.csv\")\n",
    "df2of6 = pd.read_csv(\"data/df2of6.csv\")\n",
    "df3of6 = pd.read_csv(\"data/df3of6.csv\")\n",
    "df4of6 = pd.read_csv(\"data/df4of6.csv\")\n",
    "df5of6 = pd.read_csv(\"data/df5of6.csv\")\n",
    "\n",
    "len(df1of6), len(df2of6), len(df3of6), len(df4of6), len(df5of6)"
   ]
  },
  {
   "cell_type": "code",
   "execution_count": 36,
   "metadata": {},
   "outputs": [
    {
     "data": {
      "text/html": [
       "<div>\n",
       "<style scoped>\n",
       "    .dataframe tbody tr th:only-of-type {\n",
       "        vertical-align: middle;\n",
       "    }\n",
       "\n",
       "    .dataframe tbody tr th {\n",
       "        vertical-align: top;\n",
       "    }\n",
       "\n",
       "    .dataframe thead th {\n",
       "        text-align: right;\n",
       "    }\n",
       "</style>\n",
       "<table border=\"1\" class=\"dataframe\">\n",
       "  <thead>\n",
       "    <tr style=\"text-align: right;\">\n",
       "      <th></th>\n",
       "      <th>Category</th>\n",
       "      <th>subCategory</th>\n",
       "      <th>Name</th>\n",
       "      <th>Brand</th>\n",
       "      <th>Seller</th>\n",
       "      <th>Price</th>\n",
       "      <th>shippingPrice</th>\n",
       "    </tr>\n",
       "  </thead>\n",
       "  <tbody>\n",
       "    <tr>\n",
       "      <td>0</td>\n",
       "      <td>men</td>\n",
       "      <td>mens-clothing</td>\n",
       "      <td>Men's Button Polo Shirt Red</td>\n",
       "      <td>NaN</td>\n",
       "      <td>Ecohutt</td>\n",
       "      <td>Tk 250</td>\n",
       "      <td>Tk 50</td>\n",
       "    </tr>\n",
       "    <tr>\n",
       "      <td>1</td>\n",
       "      <td>men</td>\n",
       "      <td>mens-clothing</td>\n",
       "      <td>Men's Button Polo Shirt Olive</td>\n",
       "      <td>NaN</td>\n",
       "      <td>Ecohutt</td>\n",
       "      <td>Tk 250</td>\n",
       "      <td>Tk 50</td>\n",
       "    </tr>\n",
       "  </tbody>\n",
       "</table>\n",
       "</div>"
      ],
      "text/plain": [
       "  Category    subCategory                           Name Brand   Seller  \\\n",
       "0      men  mens-clothing    Men's Button Polo Shirt Red   NaN  Ecohutt   \n",
       "1      men  mens-clothing  Men's Button Polo Shirt Olive   NaN  Ecohutt   \n",
       "\n",
       "    Price shippingPrice  \n",
       "0  Tk 250         Tk 50  \n",
       "1  Tk 250         Tk 50  "
      ]
     },
     "execution_count": 36,
     "metadata": {},
     "output_type": "execute_result"
    }
   ],
   "source": [
    "df1of6.head(2)"
   ]
  },
  {
   "cell_type": "code",
   "execution_count": 37,
   "metadata": {},
   "outputs": [
    {
     "data": {
      "text/html": [
       "<div>\n",
       "<style scoped>\n",
       "    .dataframe tbody tr th:only-of-type {\n",
       "        vertical-align: middle;\n",
       "    }\n",
       "\n",
       "    .dataframe tbody tr th {\n",
       "        vertical-align: top;\n",
       "    }\n",
       "\n",
       "    .dataframe thead th {\n",
       "        text-align: right;\n",
       "    }\n",
       "</style>\n",
       "<table border=\"1\" class=\"dataframe\">\n",
       "  <thead>\n",
       "    <tr style=\"text-align: right;\">\n",
       "      <th></th>\n",
       "      <th>Category</th>\n",
       "      <th>subCategory</th>\n",
       "      <th>Name</th>\n",
       "      <th>Brand</th>\n",
       "      <th>Seller</th>\n",
       "      <th>Price</th>\n",
       "      <th>shippingPrice</th>\n",
       "    </tr>\n",
       "  </thead>\n",
       "  <tbody>\n",
       "    <tr>\n",
       "      <td>0</td>\n",
       "      <td>womens-fashion</td>\n",
       "      <td>beauty-care</td>\n",
       "      <td>Rasasi Junoon Satin Pour Femme EDP 50 Ml For W...</td>\n",
       "      <td>Rasasi</td>\n",
       "      <td>Perfume Bangladesh</td>\n",
       "      <td>Tk 8000</td>\n",
       "      <td>Tk 50</td>\n",
       "    </tr>\n",
       "    <tr>\n",
       "      <td>1</td>\n",
       "      <td>womens-fashion</td>\n",
       "      <td>beauty-care</td>\n",
       "      <td>Rasasi Afshana EDP 100ml For Women</td>\n",
       "      <td>Rasasi</td>\n",
       "      <td>Perfume Bangladesh</td>\n",
       "      <td>Tk 1400</td>\n",
       "      <td>Tk 50</td>\n",
       "    </tr>\n",
       "  </tbody>\n",
       "</table>\n",
       "</div>"
      ],
      "text/plain": [
       "         Category  subCategory  \\\n",
       "0  womens-fashion  beauty-care   \n",
       "1  womens-fashion  beauty-care   \n",
       "\n",
       "                                                Name   Brand  \\\n",
       "0  Rasasi Junoon Satin Pour Femme EDP 50 Ml For W...  Rasasi   \n",
       "1                 Rasasi Afshana EDP 100ml For Women  Rasasi   \n",
       "\n",
       "               Seller    Price shippingPrice  \n",
       "0  Perfume Bangladesh  Tk 8000         Tk 50  \n",
       "1  Perfume Bangladesh  Tk 1400         Tk 50  "
      ]
     },
     "execution_count": 37,
     "metadata": {},
     "output_type": "execute_result"
    }
   ],
   "source": [
    "df2of6.head(2)"
   ]
  },
  {
   "cell_type": "code",
   "execution_count": 38,
   "metadata": {},
   "outputs": [
    {
     "data": {
      "text/html": [
       "<div>\n",
       "<style scoped>\n",
       "    .dataframe tbody tr th:only-of-type {\n",
       "        vertical-align: middle;\n",
       "    }\n",
       "\n",
       "    .dataframe tbody tr th {\n",
       "        vertical-align: top;\n",
       "    }\n",
       "\n",
       "    .dataframe thead th {\n",
       "        text-align: right;\n",
       "    }\n",
       "</style>\n",
       "<table border=\"1\" class=\"dataframe\">\n",
       "  <thead>\n",
       "    <tr style=\"text-align: right;\">\n",
       "      <th></th>\n",
       "      <th>Category</th>\n",
       "      <th>subCategory</th>\n",
       "      <th>Name</th>\n",
       "      <th>Brand</th>\n",
       "      <th>Seller</th>\n",
       "      <th>Price</th>\n",
       "      <th>shippingPrice</th>\n",
       "    </tr>\n",
       "  </thead>\n",
       "  <tbody>\n",
       "    <tr>\n",
       "      <td>0</td>\n",
       "      <td>home-living</td>\n",
       "      <td>furniture</td>\n",
       "      <td>Decorate Chair Tube Rose T Red</td>\n",
       "      <td>RFL Furniture</td>\n",
       "      <td>Best Buy</td>\n",
       "      <td>Tk 510</td>\n",
       "      <td>Free Shipping</td>\n",
       "    </tr>\n",
       "    <tr>\n",
       "      <td>1</td>\n",
       "      <td>home-living</td>\n",
       "      <td>furniture</td>\n",
       "      <td>Rodo Casual Chair -Orange BB88720</td>\n",
       "      <td>RFL Furniture</td>\n",
       "      <td>Best Buy</td>\n",
       "      <td>Tk 1350</td>\n",
       "      <td>Free Shipping</td>\n",
       "    </tr>\n",
       "  </tbody>\n",
       "</table>\n",
       "</div>"
      ],
      "text/plain": [
       "      Category subCategory                               Name          Brand  \\\n",
       "0  home-living   furniture     Decorate Chair Tube Rose T Red  RFL Furniture   \n",
       "1  home-living   furniture  Rodo Casual Chair -Orange BB88720  RFL Furniture   \n",
       "\n",
       "     Seller    Price  shippingPrice  \n",
       "0  Best Buy   Tk 510  Free Shipping  \n",
       "1  Best Buy  Tk 1350  Free Shipping  "
      ]
     },
     "execution_count": 38,
     "metadata": {},
     "output_type": "execute_result"
    }
   ],
   "source": [
    "df3of6.head(2)"
   ]
  },
  {
   "cell_type": "code",
   "execution_count": 39,
   "metadata": {},
   "outputs": [
    {
     "data": {
      "text/html": [
       "<div>\n",
       "<style scoped>\n",
       "    .dataframe tbody tr th:only-of-type {\n",
       "        vertical-align: middle;\n",
       "    }\n",
       "\n",
       "    .dataframe tbody tr th {\n",
       "        vertical-align: top;\n",
       "    }\n",
       "\n",
       "    .dataframe thead th {\n",
       "        text-align: right;\n",
       "    }\n",
       "</style>\n",
       "<table border=\"1\" class=\"dataframe\">\n",
       "  <thead>\n",
       "    <tr style=\"text-align: right;\">\n",
       "      <th></th>\n",
       "      <th>Category</th>\n",
       "      <th>subCategory</th>\n",
       "      <th>Name</th>\n",
       "      <th>Brand</th>\n",
       "      <th>Seller</th>\n",
       "      <th>Price</th>\n",
       "      <th>shippingPrice</th>\n",
       "    </tr>\n",
       "  </thead>\n",
       "  <tbody>\n",
       "    <tr>\n",
       "      <td>0</td>\n",
       "      <td>books-stationery</td>\n",
       "      <td>ekushey-boimela</td>\n",
       "      <td>প্লেয়িং ইট মাই ওয়ে (হার্ডকভার)</td>\n",
       "      <td>Sachin Tendulkar</td>\n",
       "      <td>Anyadhara</td>\n",
       "      <td>Tk 500</td>\n",
       "      <td>Tk 30</td>\n",
       "    </tr>\n",
       "    <tr>\n",
       "      <td>1</td>\n",
       "      <td>books-stationery</td>\n",
       "      <td>translations</td>\n",
       "      <td>অরিজিন</td>\n",
       "      <td>Dan Brown</td>\n",
       "      <td>Anyadhara</td>\n",
       "      <td>Tk 550</td>\n",
       "      <td>Tk 30</td>\n",
       "    </tr>\n",
       "  </tbody>\n",
       "</table>\n",
       "</div>"
      ],
      "text/plain": [
       "           Category      subCategory                            Name  \\\n",
       "0  books-stationery  ekushey-boimela  প্লেয়িং ইট মাই ওয়ে (হার্ডকভার)   \n",
       "1  books-stationery     translations                          অরিজিন   \n",
       "\n",
       "              Brand     Seller   Price shippingPrice  \n",
       "0  Sachin Tendulkar  Anyadhara  Tk 500         Tk 30  \n",
       "1         Dan Brown  Anyadhara  Tk 550         Tk 30  "
      ]
     },
     "execution_count": 39,
     "metadata": {},
     "output_type": "execute_result"
    }
   ],
   "source": [
    "df4of6.head(2)"
   ]
  },
  {
   "cell_type": "code",
   "execution_count": 40,
   "metadata": {},
   "outputs": [
    {
     "data": {
      "text/html": [
       "<div>\n",
       "<style scoped>\n",
       "    .dataframe tbody tr th:only-of-type {\n",
       "        vertical-align: middle;\n",
       "    }\n",
       "\n",
       "    .dataframe tbody tr th {\n",
       "        vertical-align: top;\n",
       "    }\n",
       "\n",
       "    .dataframe thead th {\n",
       "        text-align: right;\n",
       "    }\n",
       "</style>\n",
       "<table border=\"1\" class=\"dataframe\">\n",
       "  <thead>\n",
       "    <tr style=\"text-align: right;\">\n",
       "      <th></th>\n",
       "      <th>Category</th>\n",
       "      <th>subCategory</th>\n",
       "      <th>Name</th>\n",
       "      <th>Brand</th>\n",
       "      <th>Seller</th>\n",
       "      <th>Price</th>\n",
       "      <th>shippingPrice</th>\n",
       "    </tr>\n",
       "  </thead>\n",
       "  <tbody>\n",
       "    <tr>\n",
       "      <td>0</td>\n",
       "      <td>books-stationery</td>\n",
       "      <td>local-books</td>\n",
       "      <td>আলতাফ মাহমুদ : রক্ত দিয়ে লিখে গেল জীবনের গান (...</td>\n",
       "      <td>আসাদুল হক</td>\n",
       "      <td>Shahitya Prokash</td>\n",
       "      <td>Tk 100</td>\n",
       "      <td>Tk 30</td>\n",
       "    </tr>\n",
       "    <tr>\n",
       "      <td>1</td>\n",
       "      <td>books-stationery</td>\n",
       "      <td>local-books</td>\n",
       "      <td>চার্লস ডারউইন (হার্ডকভার)</td>\n",
       "      <td>জহুরুল আলম সিদ্দিকী</td>\n",
       "      <td>Shahitya Prokash</td>\n",
       "      <td>Tk 500</td>\n",
       "      <td>Tk 30</td>\n",
       "    </tr>\n",
       "  </tbody>\n",
       "</table>\n",
       "</div>"
      ],
      "text/plain": [
       "           Category  subCategory  \\\n",
       "0  books-stationery  local-books   \n",
       "1  books-stationery  local-books   \n",
       "\n",
       "                                                Name                Brand  \\\n",
       "0  আলতাফ মাহমুদ : রক্ত দিয়ে লিখে গেল জীবনের গান (...            আসাদুল হক   \n",
       "1                          চার্লস ডারউইন (হার্ডকভার)  জহুরুল আলম সিদ্দিকী   \n",
       "\n",
       "             Seller   Price shippingPrice  \n",
       "0  Shahitya Prokash  Tk 100         Tk 30  \n",
       "1  Shahitya Prokash  Tk 500         Tk 30  "
      ]
     },
     "execution_count": 40,
     "metadata": {},
     "output_type": "execute_result"
    }
   ],
   "source": [
    "df5of6.head(2)"
   ]
  },
  {
   "cell_type": "code",
   "execution_count": 41,
   "metadata": {},
   "outputs": [
    {
     "data": {
      "text/html": [
       "<div>\n",
       "<style scoped>\n",
       "    .dataframe tbody tr th:only-of-type {\n",
       "        vertical-align: middle;\n",
       "    }\n",
       "\n",
       "    .dataframe tbody tr th {\n",
       "        vertical-align: top;\n",
       "    }\n",
       "\n",
       "    .dataframe thead th {\n",
       "        text-align: right;\n",
       "    }\n",
       "</style>\n",
       "<table border=\"1\" class=\"dataframe\">\n",
       "  <thead>\n",
       "    <tr style=\"text-align: right;\">\n",
       "      <th></th>\n",
       "      <th>Category</th>\n",
       "      <th>subCategory</th>\n",
       "      <th>Name</th>\n",
       "      <th>Brand</th>\n",
       "      <th>Seller</th>\n",
       "      <th>Price</th>\n",
       "      <th>shippingPrice</th>\n",
       "    </tr>\n",
       "  </thead>\n",
       "  <tbody>\n",
       "    <tr>\n",
       "      <td>0</td>\n",
       "      <td>books-stationery</td>\n",
       "      <td>best-seller</td>\n",
       "      <td>লালসালু</td>\n",
       "      <td>সৈয়দ ওয়ালীউল্লাহ্‌</td>\n",
       "      <td>Adorn Publication</td>\n",
       "      <td>Tk 150</td>\n",
       "      <td>Tk 30</td>\n",
       "    </tr>\n",
       "    <tr>\n",
       "      <td>1</td>\n",
       "      <td>books-stationery</td>\n",
       "      <td>best-seller</td>\n",
       "      <td>ঝিলাম নদীর দেশ</td>\n",
       "      <td>বুলবুল সরওয়ার</td>\n",
       "      <td>Adorn Publication</td>\n",
       "      <td>Tk 250</td>\n",
       "      <td>Tk 30</td>\n",
       "    </tr>\n",
       "  </tbody>\n",
       "</table>\n",
       "</div>"
      ],
      "text/plain": [
       "           Category  subCategory            Name               Brand  \\\n",
       "0  books-stationery  best-seller         লালসালু  সৈয়দ ওয়ালীউল্লাহ্‌   \n",
       "1  books-stationery  best-seller  ঝিলাম নদীর দেশ       বুলবুল সরওয়ার   \n",
       "\n",
       "              Seller   Price shippingPrice  \n",
       "0  Adorn Publication  Tk 150         Tk 30  \n",
       "1  Adorn Publication  Tk 250         Tk 30  "
      ]
     },
     "execution_count": 41,
     "metadata": {},
     "output_type": "execute_result"
    }
   ],
   "source": [
    "df6of6.head(2)"
   ]
  },
  {
   "cell_type": "code",
   "execution_count": 42,
   "metadata": {},
   "outputs": [
    {
     "data": {
      "text/plain": [
       "30881"
      ]
     },
     "execution_count": 42,
     "metadata": {},
     "output_type": "execute_result"
    }
   ],
   "source": [
    "final_df = pd.concat([df1of6, df2of6, df3of6, df4of6, df5of6, df6of6],\n",
    "                     axis=0,\n",
    "                     ignore_index=True)\n",
    "\n",
    "len(final_df)"
   ]
  },
  {
   "cell_type": "code",
   "execution_count": 43,
   "metadata": {},
   "outputs": [
    {
     "data": {
      "text/html": [
       "<div>\n",
       "<style scoped>\n",
       "    .dataframe tbody tr th:only-of-type {\n",
       "        vertical-align: middle;\n",
       "    }\n",
       "\n",
       "    .dataframe tbody tr th {\n",
       "        vertical-align: top;\n",
       "    }\n",
       "\n",
       "    .dataframe thead th {\n",
       "        text-align: right;\n",
       "    }\n",
       "</style>\n",
       "<table border=\"1\" class=\"dataframe\">\n",
       "  <thead>\n",
       "    <tr style=\"text-align: right;\">\n",
       "      <th></th>\n",
       "      <th>Category</th>\n",
       "      <th>subCategory</th>\n",
       "      <th>Name</th>\n",
       "      <th>Brand</th>\n",
       "      <th>Seller</th>\n",
       "      <th>Price</th>\n",
       "      <th>shippingPrice</th>\n",
       "    </tr>\n",
       "  </thead>\n",
       "  <tbody>\n",
       "    <tr>\n",
       "      <td>30876</td>\n",
       "      <td>chocolate-candy</td>\n",
       "      <td>None</td>\n",
       "      <td>Chocobean Ball Toffee 23 gm</td>\n",
       "      <td>PRAN Agro</td>\n",
       "      <td>Daily Shopping</td>\n",
       "      <td>Tk 50</td>\n",
       "      <td>Tk 50</td>\n",
       "    </tr>\n",
       "    <tr>\n",
       "      <td>30877</td>\n",
       "      <td>chocolate-candy</td>\n",
       "      <td>None</td>\n",
       "      <td>Chocolord Bar 12.5gm</td>\n",
       "      <td>PRAN Agro</td>\n",
       "      <td>Daily Shopping</td>\n",
       "      <td>Tk 10</td>\n",
       "      <td>Tk 50</td>\n",
       "    </tr>\n",
       "    <tr>\n",
       "      <td>30878</td>\n",
       "      <td>chocolate-candy</td>\n",
       "      <td>None</td>\n",
       "      <td>Cadbury Dairy Milk Lickables 20gm</td>\n",
       "      <td>None</td>\n",
       "      <td>Daily Shopping</td>\n",
       "      <td>Tk 112</td>\n",
       "      <td>Tk 50</td>\n",
       "    </tr>\n",
       "    <tr>\n",
       "      <td>30879</td>\n",
       "      <td>chocolate-candy</td>\n",
       "      <td>None</td>\n",
       "      <td>Sesame Bar Star 20 gm</td>\n",
       "      <td>PRAN Agro</td>\n",
       "      <td>Daily Shopping</td>\n",
       "      <td>Tk 10</td>\n",
       "      <td>Tk 50</td>\n",
       "    </tr>\n",
       "    <tr>\n",
       "      <td>30880</td>\n",
       "      <td>chocolate-candy</td>\n",
       "      <td>None</td>\n",
       "      <td>Rapinda Hazelnut Diamond Box 300gm</td>\n",
       "      <td>Rapinda</td>\n",
       "      <td>Daily Shopping</td>\n",
       "      <td>Tk 575</td>\n",
       "      <td>Free Shipping</td>\n",
       "    </tr>\n",
       "  </tbody>\n",
       "</table>\n",
       "</div>"
      ],
      "text/plain": [
       "              Category subCategory                                Name  \\\n",
       "30876  chocolate-candy        None         Chocobean Ball Toffee 23 gm   \n",
       "30877  chocolate-candy        None                Chocolord Bar 12.5gm   \n",
       "30878  chocolate-candy        None   Cadbury Dairy Milk Lickables 20gm   \n",
       "30879  chocolate-candy        None               Sesame Bar Star 20 gm   \n",
       "30880  chocolate-candy        None  Rapinda Hazelnut Diamond Box 300gm   \n",
       "\n",
       "           Brand          Seller   Price  shippingPrice  \n",
       "30876  PRAN Agro  Daily Shopping   Tk 50          Tk 50  \n",
       "30877  PRAN Agro  Daily Shopping   Tk 10          Tk 50  \n",
       "30878       None  Daily Shopping  Tk 112          Tk 50  \n",
       "30879  PRAN Agro  Daily Shopping   Tk 10          Tk 50  \n",
       "30880    Rapinda  Daily Shopping  Tk 575  Free Shipping  "
      ]
     },
     "execution_count": 43,
     "metadata": {},
     "output_type": "execute_result"
    }
   ],
   "source": [
    "final_df.tail()"
   ]
  },
  {
   "cell_type": "code",
   "execution_count": 44,
   "metadata": {},
   "outputs": [],
   "source": [
    "final_df.to_csv(\"Othoba_productData.csv\", index=False)"
   ]
  },
  {
   "cell_type": "code",
   "execution_count": 46,
   "metadata": {},
   "outputs": [
    {
     "data": {
      "text/plain": [
       "30881"
      ]
     },
     "execution_count": 46,
     "metadata": {},
     "output_type": "execute_result"
    }
   ],
   "source": [
    "df = pd.read_csv(\"Othoba_productData.csv\")\n",
    "len(df)"
   ]
  },
  {
   "cell_type": "code",
   "execution_count": 47,
   "metadata": {},
   "outputs": [
    {
     "data": {
      "text/html": [
       "<div>\n",
       "<style scoped>\n",
       "    .dataframe tbody tr th:only-of-type {\n",
       "        vertical-align: middle;\n",
       "    }\n",
       "\n",
       "    .dataframe tbody tr th {\n",
       "        vertical-align: top;\n",
       "    }\n",
       "\n",
       "    .dataframe thead th {\n",
       "        text-align: right;\n",
       "    }\n",
       "</style>\n",
       "<table border=\"1\" class=\"dataframe\">\n",
       "  <thead>\n",
       "    <tr style=\"text-align: right;\">\n",
       "      <th></th>\n",
       "      <th>Category</th>\n",
       "      <th>subCategory</th>\n",
       "      <th>Name</th>\n",
       "      <th>Brand</th>\n",
       "      <th>Seller</th>\n",
       "      <th>Price</th>\n",
       "      <th>shippingPrice</th>\n",
       "    </tr>\n",
       "  </thead>\n",
       "  <tbody>\n",
       "    <tr>\n",
       "      <td>0</td>\n",
       "      <td>men</td>\n",
       "      <td>mens-clothing</td>\n",
       "      <td>Men's Button Polo Shirt Red</td>\n",
       "      <td>NaN</td>\n",
       "      <td>Ecohutt</td>\n",
       "      <td>Tk 250</td>\n",
       "      <td>Tk 50</td>\n",
       "    </tr>\n",
       "    <tr>\n",
       "      <td>1</td>\n",
       "      <td>men</td>\n",
       "      <td>mens-clothing</td>\n",
       "      <td>Men's Button Polo Shirt Olive</td>\n",
       "      <td>NaN</td>\n",
       "      <td>Ecohutt</td>\n",
       "      <td>Tk 250</td>\n",
       "      <td>Tk 50</td>\n",
       "    </tr>\n",
       "    <tr>\n",
       "      <td>2</td>\n",
       "      <td>men</td>\n",
       "      <td>mens-clothing</td>\n",
       "      <td>Men's Button Polo Shirt Blue</td>\n",
       "      <td>NaN</td>\n",
       "      <td>Ecohutt</td>\n",
       "      <td>Tk 250</td>\n",
       "      <td>Tk 50</td>\n",
       "    </tr>\n",
       "    <tr>\n",
       "      <td>3</td>\n",
       "      <td>men</td>\n",
       "      <td>mens-clothing</td>\n",
       "      <td>Men's Button Polo Shirt Black</td>\n",
       "      <td>NaN</td>\n",
       "      <td>Ecohutt</td>\n",
       "      <td>Tk 250</td>\n",
       "      <td>Tk 50</td>\n",
       "    </tr>\n",
       "    <tr>\n",
       "      <td>4</td>\n",
       "      <td>men</td>\n",
       "      <td>mens-clothing</td>\n",
       "      <td>Men's Boxer Mixed 3 Pcs</td>\n",
       "      <td>NaN</td>\n",
       "      <td>Living Tex</td>\n",
       "      <td>Tk 240</td>\n",
       "      <td>Tk 50</td>\n",
       "    </tr>\n",
       "  </tbody>\n",
       "</table>\n",
       "</div>"
      ],
      "text/plain": [
       "  Category    subCategory                           Name Brand      Seller  \\\n",
       "0      men  mens-clothing    Men's Button Polo Shirt Red   NaN     Ecohutt   \n",
       "1      men  mens-clothing  Men's Button Polo Shirt Olive   NaN     Ecohutt   \n",
       "2      men  mens-clothing   Men's Button Polo Shirt Blue   NaN     Ecohutt   \n",
       "3      men  mens-clothing  Men's Button Polo Shirt Black   NaN     Ecohutt   \n",
       "4      men  mens-clothing        Men's Boxer Mixed 3 Pcs   NaN  Living Tex   \n",
       "\n",
       "    Price shippingPrice  \n",
       "0  Tk 250         Tk 50  \n",
       "1  Tk 250         Tk 50  \n",
       "2  Tk 250         Tk 50  \n",
       "3  Tk 250         Tk 50  \n",
       "4  Tk 240         Tk 50  "
      ]
     },
     "execution_count": 47,
     "metadata": {},
     "output_type": "execute_result"
    }
   ],
   "source": [
    "df.head()"
   ]
  },
  {
   "cell_type": "code",
   "execution_count": null,
   "metadata": {},
   "outputs": [],
   "source": []
  }
 ],
 "metadata": {
  "kernelspec": {
   "display_name": "Python 3",
   "language": "python",
   "name": "python3"
  },
  "language_info": {
   "codemirror_mode": {
    "name": "ipython",
    "version": 3
   },
   "file_extension": ".py",
   "mimetype": "text/x-python",
   "name": "python",
   "nbconvert_exporter": "python",
   "pygments_lexer": "ipython3",
   "version": "3.7.4"
  }
 },
 "nbformat": 4,
 "nbformat_minor": 4
}
