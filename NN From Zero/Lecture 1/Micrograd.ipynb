{
 "cells": [
  {
   "cell_type": "code",
   "execution_count": 1,
   "id": "19880e5a",
   "metadata": {},
   "outputs": [],
   "source": [
    "from micrograd.engine import Value"
   ]
  },
  {
   "cell_type": "markdown",
   "id": "39f2c5b3",
   "metadata": {},
   "source": [
    "**Forward Pass**"
   ]
  },
  {
   "cell_type": "code",
   "execution_count": 7,
   "id": "cc72f026",
   "metadata": {},
   "outputs": [
    {
     "name": "stdout",
     "output_type": "stream",
     "text": [
      "722.0069\n"
     ]
    }
   ],
   "source": [
    "a = Value(-4.0)\n",
    "b = Value(2.0)\n",
    "c = a + b\n",
    "d = a + b + b**3\n",
    "c += c + 1\n",
    "c += 1 + c + (-a)\n",
    "d += d + 2 + (b + a).relu()\n",
    "d += 3 + d + (b - a).relu()\n",
    "e = c - d\n",
    "f = e**2\n",
    "g = f / 2.0\n",
    "g += 10.0 / f\n",
    "print(f'{g.data:.4f}')"
   ]
  },
  {
   "cell_type": "markdown",
   "id": "d14707f6",
   "metadata": {},
   "source": [
    "**Backward Pass**"
   ]
  },
  {
   "cell_type": "code",
   "execution_count": 5,
   "id": "173074a9",
   "metadata": {},
   "outputs": [
    {
     "name": "stdout",
     "output_type": "stream",
     "text": [
      "265.9974\n"
     ]
    }
   ],
   "source": [
    "g.backward()\n",
    "print(f'{a.grad:.4f}')"
   ]
  },
  {
   "cell_type": "code",
   "execution_count": 6,
   "id": "82f48121",
   "metadata": {},
   "outputs": [
    {
     "name": "stdout",
     "output_type": "stream",
     "text": [
      "22647.7649\n"
     ]
    }
   ],
   "source": [
    "print(f'{b.grad:.4f}')"
   ]
  },
  {
   "cell_type": "markdown",
   "id": "13131bc0",
   "metadata": {},
   "source": [
    "**Next Example**"
   ]
  },
  {
   "cell_type": "code",
   "execution_count": 10,
   "id": "6440b66d",
   "metadata": {},
   "outputs": [
    {
     "name": "stdout",
     "output_type": "stream",
     "text": [
      "72.0000\n"
     ]
    }
   ],
   "source": [
    "a = Value(1.0)\n",
    "b = Value(-1.0)\n",
    "c = a**5 + b\n",
    "c += b**2\n",
    "d = c + a**2 + b\n",
    "d += 3 + c + (b + a + c).relu()\n",
    "d += d + (b - a - c).relu()\n",
    "e = d/2.0\n",
    "f = e**2\n",
    "g = 2*f\n",
    "print(f'{g.data:.4f}')"
   ]
  },
  {
   "cell_type": "code",
   "execution_count": 11,
   "id": "713c35d9",
   "metadata": {},
   "outputs": [],
   "source": [
    "g.backward()"
   ]
  },
  {
   "cell_type": "code",
   "execution_count": 21,
   "id": "a10c253f",
   "metadata": {},
   "outputs": [
    {
     "name": "stdout",
     "output_type": "stream",
     "text": [
      "a : 1.0000  b : -24.0000  c : 72.0000  d : 12.0000   e : 24.0000   f : 2.0000  g : 1.0000\n"
     ]
    }
   ],
   "source": [
    "print(f'a : {g.grad:.4f}  b : {b.grad:.4f}  c : {c.grad:.4f}  d : {d.grad:.4f}   e : {e.grad:.4f}   f : {f.grad:.4f}  g : {g.grad:.4f}')"
   ]
  },
  {
   "cell_type": "code",
   "execution_count": null,
   "id": "871532a0",
   "metadata": {},
   "outputs": [],
   "source": []
  }
 ],
 "metadata": {
  "kernelspec": {
   "display_name": "Python 3.8 (pytorch)",
   "language": "python",
   "name": "pytorch"
  },
  "language_info": {
   "codemirror_mode": {
    "name": "ipython",
    "version": 3
   },
   "file_extension": ".py",
   "mimetype": "text/x-python",
   "name": "python",
   "nbconvert_exporter": "python",
   "pygments_lexer": "ipython3",
   "version": "3.8.13"
  }
 },
 "nbformat": 4,
 "nbformat_minor": 5
}
