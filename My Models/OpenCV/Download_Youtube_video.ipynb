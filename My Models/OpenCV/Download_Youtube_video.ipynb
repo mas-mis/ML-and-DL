{
  "cells": [
    {
      "cell_type": "code",
      "execution_count": 1,
      "metadata": {
        "colab": {
          "base_uri": "https://localhost:8080/"
        },
        "id": "Nrmubjq8eCQe",
        "outputId": "8ff24a96-eac3-4f6e-dc61-2e9de4f95516"
      },
      "outputs": [
        {
          "name": "stdout",
          "output_type": "stream",
          "text": [
            "Requirement already satisfied: pytube in c:\\users\\mohit\\onedrive\\desktop\\opencv\\fccv\\lib\\site-packages (12.1.0)\n"
          ]
        }
      ],
      "source": [
        "!pip install pytube\n",
        "import pytube"
      ]
    },
    {
      "cell_type": "code",
      "execution_count": 2,
      "metadata": {
        "colab": {
          "base_uri": "https://localhost:8080/"
        },
        "id": "rNnDuo5IeMp_",
        "outputId": "ddfee1be-16f9-4c24-ca1b-618afea9e4af"
      },
      "outputs": [
        {
          "name": "stdout",
          "output_type": "stream",
          "text": [
            "Downloading Link: https://www.youtube.com/watch?v=zBjJUV-lzHo\n",
            "Downloading video: 1 minute funny videos\n",
            "Downloading Link: https://www.youtube.com/watch?v=PI0BCN5632Y\n",
            "Downloading video: Kylie Jenner Lip Challenge by @elirious\n",
            "Task Completed!\n"
          ]
        }
      ],
      "source": [
        "from pytube import YouTube\n",
        "\n",
        "#Creating video lists\n",
        "yt_list = ['https://www.youtube.com/watch?v=zBjJUV-lzHo',\n",
        "           'https://www.youtube.com/watch?v=PI0BCN5632Y']\n",
        "\n",
        "#Looping through the list\n",
        "for i in yt_list:\n",
        "  try:\n",
        "    yt = YouTube(i)\n",
        "    print('Downloading Link: ' + i)\n",
        "    print('Downloading video: ' + yt.streams[0].title)\n",
        "  except:\n",
        "    print(\"Connection Error\")\n",
        "\n",
        "  #filters out all the files with \"mp4\" extension\n",
        "  stream = yt.streams.filter(res=\"480p\").first()\n",
        "  stream.download(\"Downloads/\")\n",
        "print('Task Completed!')\n",
        "\n",
        "\n"
      ]
    },
    {
      "cell_type": "code",
      "execution_count": 3,
      "metadata": {
        "id": "O_f7Qk4pjyhg"
      },
      "outputs": [
        {
          "data": {
            "text/plain": [
              "'c:\\\\Users\\\\mohit\\\\OneDrive\\\\Desktop\\\\OpenCV\\\\Downloads/Microsoft Asia Pacific Region 2019 (MSP) Summit Sydney Application  Vamsi Krishna Ykuntam.3gpp'"
            ]
          },
          "execution_count": 3,
          "metadata": {},
          "output_type": "execute_result"
        }
      ],
      "source": [
        "import pytube  \n",
        "from pytube import YouTube  \n",
        "video_url = 'https://www.youtube.com/watch?v=5Z0rJfT0jdQ&t=5s'   \n",
        "youtube = pytube.YouTube(video_url)  \n",
        "video = youtube.streams.first()  \n",
        "video.download('Downloads/')"
      ]
    },
    {
      "cell_type": "code",
      "execution_count": null,
      "metadata": {},
      "outputs": [],
      "source": []
    }
  ],
  "metadata": {
    "colab": {
      "name": "Download Youtube video.ipynb",
      "provenance": []
    },
    "interpreter": {
      "hash": "00be2451b146a60356f7683c0ebf82ad0d130c51dc7e1a08ac1e71ab117ef821"
    },
    "kernelspec": {
      "display_name": "Python 3.9.6 ('fccv': venv)",
      "language": "python",
      "name": "python3"
    },
    "language_info": {
      "codemirror_mode": {
        "name": "ipython",
        "version": 3
      },
      "file_extension": ".py",
      "mimetype": "text/x-python",
      "name": "python",
      "nbconvert_exporter": "python",
      "pygments_lexer": "ipython3",
      "version": "3.9.6"
    }
  },
  "nbformat": 4,
  "nbformat_minor": 0
}
