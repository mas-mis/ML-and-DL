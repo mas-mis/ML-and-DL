{
 "cells": [
  {
   "cell_type": "markdown",
   "metadata": {},
   "source": [
    "### CV2 Error / Assertion Failed\n",
    "\n",
    "- This error mainly happen if the given path is wrong or the video or image are already destroyed\n",
    "- One of the reason is also if opencv ran out of frames\n",
    "- In simple words it is because CV2 is not able to read it."
   ]
  },
  {
   "cell_type": "markdown",
   "metadata": {},
   "source": [
    "```\n",
    "  File \"C:\\Users\\mohit\\OneDrive\\Desktop\\OpenCV\\read.py\", line 15, in <module>\n",
    "    cv.imshow('Downloads' , frame)\n",
    "cv2.error: OpenCV(4.5.5) D:\\a\\opencv-python\\opencv-python\\opencv\\modules\\imgproc\\src\\color.cpp:182: error: (-215:Assertion failed) !_src.empty() in function 'cv::cvtColor'\n",
    "```"
   ]
  }
 ],
 "metadata": {
  "language_info": {
   "name": "python"
  },
  "orig_nbformat": 4
 },
 "nbformat": 4,
 "nbformat_minor": 2
}
