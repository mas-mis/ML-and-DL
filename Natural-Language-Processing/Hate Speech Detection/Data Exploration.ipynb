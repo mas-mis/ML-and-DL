{
 "cells": [
  {
   "cell_type": "markdown",
   "metadata": {},
   "source": [
    "Content\n",
    "    1. Import libraries\n",
    "    2. Data Exploration\n",
    "        - Train VS Test datasets\n",
    "        - Positive VS negative tweets\n",
    "        - Label distribution\n",
    "        - Tweet length analysis (character length)\n",
    "        - Box plot\n",
    "        - Wordcloud"
   ]
  },
  {
   "cell_type": "markdown",
   "metadata": {},
   "source": []
  }
 ],
 "metadata": {
  "language_info": {
   "name": "python"
  },
  "orig_nbformat": 4
 },
 "nbformat": 4,
 "nbformat_minor": 2
}
