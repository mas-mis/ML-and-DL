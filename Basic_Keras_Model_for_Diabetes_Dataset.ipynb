{
  "nbformat": 4,
  "nbformat_minor": 0,
  "metadata": {
    "colab": {
      "name": "Basic Keras Model for Diabetes Dataset.ipynb",
      "provenance": [],
      "collapsed_sections": [],
      "authorship_tag": "ABX9TyOTmQ1POSS5OdRBriB5kfXs",
      "include_colab_link": true
    },
    "kernelspec": {
      "name": "python3",
      "display_name": "Python 3"
    },
    "language_info": {
      "name": "python"
    }
  },
  "cells": [
    {
      "cell_type": "markdown",
      "metadata": {
        "id": "view-in-github",
        "colab_type": "text"
      },
      "source": [
        "<a href=\"https://colab.research.google.com/github/mohitmishra786/Machine-Learning-Models/blob/main/Basic_Keras_Model_for_Diabetes_Dataset.ipynb\" target=\"_parent\"><img src=\"https://colab.research.google.com/assets/colab-badge.svg\" alt=\"Open In Colab\"/></a>"
      ]
    },
    {
      "cell_type": "code",
      "metadata": {
        "id": "kiJ9SvUE2aIt"
      },
      "source": [
        "# first neural network with keras tutorial\n",
        "from numpy import loadtxt\n",
        "from keras.models import Sequential\n",
        "from keras.layers import Dense"
      ],
      "execution_count": 19,
      "outputs": []
    },
    {
      "cell_type": "code",
      "metadata": {
        "id": "Ar1ukgO03OHB"
      },
      "source": [
        "\n",
        "# load the dataset\n",
        "dataset = loadtxt('/content/diabetes_.csv', delimiter=',')\n",
        "# split into input (X) and output (y) variables\n",
        "X = dataset[:,0:8]\n",
        "y = dataset[:,8]\n"
      ],
      "execution_count": 20,
      "outputs": []
    },
    {
      "cell_type": "code",
      "metadata": {
        "id": "Q69j3pXd_M5w"
      },
      "source": [
        "X = dataset[:,1:].astype(float)\n",
        "y = dataset[:,0]\n",
        "from sklearn.model_selection import train_test_split\n",
        "\n",
        "X_train, X_test, y_train, y_test = train_test_split(X, y, test_size=0.25, random_state=42)"
      ],
      "execution_count": 70,
      "outputs": []
    },
    {
      "cell_type": "code",
      "metadata": {
        "colab": {
          "base_uri": "https://localhost:8080/"
        },
        "id": "haT7b1-z_aoa",
        "outputId": "6c767824-3ace-4960-c97e-786c9d28b858"
      },
      "source": [
        "from keras.models import Sequential\n",
        "from keras.layers import Dense\n",
        "from keras.wrappers.scikit_learn import KerasClassifier\n",
        "\n",
        "# Function to create model, required for KerasClassifier\n",
        "def create_model():\n",
        "\t# create model\n",
        "\tmodel = Sequential()\n",
        "\tmodel.add(Dense(12, input_dim=8, activation='relu'))\n",
        "\tmodel.add(Dense(8,  activation='relu'))\n",
        "\tmodel.add(Dense(1,  activation='sigmoid'))\n",
        "\t# Compile model\n",
        "\tmodel.compile(loss='binary_crossentropy', optimizer='adam', metrics=['accuracy'])\n",
        "\treturn model\n",
        "\n",
        "# create model\n",
        "model = KerasClassifier(build_fn=create_model, nb_epoch=100, batch_size=5, verbose=0)\n",
        "\n",
        "# now you can do fit and predict \n",
        "model.fit(X_train, y_train)\n",
        "y_pred = model.predict(X_test)"
      ],
      "execution_count": 71,
      "outputs": [
        {
          "output_type": "stream",
          "name": "stderr",
          "text": [
            "/usr/local/lib/python3.7/dist-packages/ipykernel_launcher.py:17: DeprecationWarning: KerasClassifier is deprecated, use Sci-Keras (https://github.com/adriangb/scikeras) instead.\n"
          ]
        }
      ]
    },
    {
      "cell_type": "code",
      "metadata": {
        "colab": {
          "base_uri": "https://localhost:8080/"
        },
        "id": "netg7QDe_dr3",
        "outputId": "2a1a4eb1-6dc4-4330-c138-d20d9c9fb430"
      },
      "source": [
        "from sklearn.metrics import accuracy_score\n",
        "accuracy_score(y_test,y_pred)"
      ],
      "execution_count": 72,
      "outputs": [
        {
          "output_type": "execute_result",
          "data": {
            "text/plain": [
              "0.140625"
            ]
          },
          "metadata": {},
          "execution_count": 72
        }
      ]
    },
    {
      "cell_type": "code",
      "metadata": {
        "id": "ahenkSRt_1z-"
      },
      "source": [
        "op = pd.read_csv('/content/diabetes_.csv')"
      ],
      "execution_count": 73,
      "outputs": []
    },
    {
      "cell_type": "code",
      "metadata": {
        "id": "piryvIlMANlJ"
      },
      "source": [
        "X = op.iloc[:,:8]\n",
        "y = op.iloc[:,8]\n",
        "\n",
        "X_train, X_test, y_train, y_test = train_test_split(X, y, test_size=0.20, random_state=42)"
      ],
      "execution_count": 74,
      "outputs": []
    },
    {
      "cell_type": "code",
      "metadata": {
        "colab": {
          "base_uri": "https://localhost:8080/"
        },
        "id": "QAR55vYrANnv",
        "outputId": "6fa31f86-ea6d-47f5-b49e-9fe17d6dc227"
      },
      "source": [
        "\n",
        "# first neural network with keras tutorial\n",
        "from numpy import loadtxt\n",
        "from keras.models import Sequential\n",
        "from keras.layers import Dense\n",
        "# load the dataset\n",
        "# define the keras model\n",
        "model = Sequential()\n",
        "model.add(Dense(12, input_dim=8, activation='relu'))\n",
        "model.add(Dense(8, activation='relu'))\n",
        "model.add(Dense(1, activation='sigmoid'))\n",
        "# compile the keras model\n",
        "model.compile(loss='binary_crossentropy', optimizer='adam', metrics=['accuracy'])\n",
        "# fit the keras model on the dataset\n",
        "model.fit(X_train, y_train, epochs=150, batch_size=10)\n",
        "# evaluate the keras model\n",
        "y_pred = model.predict(X_test)\n"
      ],
      "execution_count": 77,
      "outputs": [
        {
          "output_type": "stream",
          "name": "stdout",
          "text": [
            "Epoch 1/150\n",
            "62/62 [==============================] - 1s 2ms/step - loss: 8.7520 - accuracy: 0.4486\n",
            "Epoch 2/150\n",
            "62/62 [==============================] - 0s 1ms/step - loss: 2.1151 - accuracy: 0.6036\n",
            "Epoch 3/150\n",
            "62/62 [==============================] - 0s 1ms/step - loss: 1.5242 - accuracy: 0.5840\n",
            "Epoch 4/150\n",
            "62/62 [==============================] - 0s 2ms/step - loss: 1.2951 - accuracy: 0.6003\n",
            "Epoch 5/150\n",
            "62/62 [==============================] - 0s 2ms/step - loss: 1.1692 - accuracy: 0.6166\n",
            "Epoch 6/150\n",
            "62/62 [==============================] - 0s 1ms/step - loss: 1.0819 - accuracy: 0.5938\n",
            "Epoch 7/150\n",
            "62/62 [==============================] - 0s 2ms/step - loss: 0.9920 - accuracy: 0.6166\n",
            "Epoch 8/150\n",
            "62/62 [==============================] - 0s 2ms/step - loss: 0.9212 - accuracy: 0.6036\n",
            "Epoch 9/150\n",
            "62/62 [==============================] - 0s 2ms/step - loss: 0.8459 - accuracy: 0.6199\n",
            "Epoch 10/150\n",
            "62/62 [==============================] - 0s 2ms/step - loss: 0.7723 - accuracy: 0.6411\n",
            "Epoch 11/150\n",
            "62/62 [==============================] - 0s 2ms/step - loss: 0.7339 - accuracy: 0.6509\n",
            "Epoch 12/150\n",
            "62/62 [==============================] - 0s 2ms/step - loss: 0.6738 - accuracy: 0.6721\n",
            "Epoch 13/150\n",
            "62/62 [==============================] - 0s 2ms/step - loss: 0.6425 - accuracy: 0.6672\n",
            "Epoch 14/150\n",
            "62/62 [==============================] - 0s 1ms/step - loss: 0.6312 - accuracy: 0.6688\n",
            "Epoch 15/150\n",
            "62/62 [==============================] - 0s 1ms/step - loss: 0.6166 - accuracy: 0.6917\n",
            "Epoch 16/150\n",
            "62/62 [==============================] - 0s 2ms/step - loss: 0.6098 - accuracy: 0.6884\n",
            "Epoch 17/150\n",
            "62/62 [==============================] - 0s 1ms/step - loss: 0.6087 - accuracy: 0.6852\n",
            "Epoch 18/150\n",
            "62/62 [==============================] - 0s 2ms/step - loss: 0.6014 - accuracy: 0.6966\n",
            "Epoch 19/150\n",
            "62/62 [==============================] - 0s 1ms/step - loss: 0.6047 - accuracy: 0.6982\n",
            "Epoch 20/150\n",
            "62/62 [==============================] - 0s 2ms/step - loss: 0.5998 - accuracy: 0.6982\n",
            "Epoch 21/150\n",
            "62/62 [==============================] - 0s 1ms/step - loss: 0.6204 - accuracy: 0.6688\n",
            "Epoch 22/150\n",
            "62/62 [==============================] - 0s 1ms/step - loss: 0.6002 - accuracy: 0.6966\n",
            "Epoch 23/150\n",
            "62/62 [==============================] - 0s 2ms/step - loss: 0.5864 - accuracy: 0.7064\n",
            "Epoch 24/150\n",
            "62/62 [==============================] - 0s 1ms/step - loss: 0.5915 - accuracy: 0.7113\n",
            "Epoch 25/150\n",
            "62/62 [==============================] - 0s 2ms/step - loss: 0.5988 - accuracy: 0.7047\n",
            "Epoch 26/150\n",
            "62/62 [==============================] - 0s 1ms/step - loss: 0.6291 - accuracy: 0.6900\n",
            "Epoch 27/150\n",
            "62/62 [==============================] - 0s 2ms/step - loss: 0.5739 - accuracy: 0.7194\n",
            "Epoch 28/150\n",
            "62/62 [==============================] - 0s 1ms/step - loss: 0.5662 - accuracy: 0.7162\n",
            "Epoch 29/150\n",
            "62/62 [==============================] - 0s 2ms/step - loss: 0.5724 - accuracy: 0.7227\n",
            "Epoch 30/150\n",
            "62/62 [==============================] - 0s 1ms/step - loss: 0.5653 - accuracy: 0.7178\n",
            "Epoch 31/150\n",
            "62/62 [==============================] - 0s 2ms/step - loss: 0.5873 - accuracy: 0.7015\n",
            "Epoch 32/150\n",
            "62/62 [==============================] - 0s 2ms/step - loss: 0.5681 - accuracy: 0.7194\n",
            "Epoch 33/150\n",
            "62/62 [==============================] - 0s 2ms/step - loss: 0.5880 - accuracy: 0.6933\n",
            "Epoch 34/150\n",
            "62/62 [==============================] - 0s 1ms/step - loss: 0.5694 - accuracy: 0.7145\n",
            "Epoch 35/150\n",
            "62/62 [==============================] - 0s 1ms/step - loss: 0.5606 - accuracy: 0.7113\n",
            "Epoch 36/150\n",
            "62/62 [==============================] - 0s 2ms/step - loss: 0.5693 - accuracy: 0.7292\n",
            "Epoch 37/150\n",
            "62/62 [==============================] - 0s 2ms/step - loss: 0.5920 - accuracy: 0.6819\n",
            "Epoch 38/150\n",
            "62/62 [==============================] - 0s 2ms/step - loss: 0.5631 - accuracy: 0.7129\n",
            "Epoch 39/150\n",
            "62/62 [==============================] - 0s 2ms/step - loss: 0.5717 - accuracy: 0.7145\n",
            "Epoch 40/150\n",
            "62/62 [==============================] - 0s 2ms/step - loss: 0.5592 - accuracy: 0.7210\n",
            "Epoch 41/150\n",
            "62/62 [==============================] - 0s 1ms/step - loss: 0.5653 - accuracy: 0.7145\n",
            "Epoch 42/150\n",
            "62/62 [==============================] - 0s 2ms/step - loss: 0.6041 - accuracy: 0.6819\n",
            "Epoch 43/150\n",
            "62/62 [==============================] - 0s 2ms/step - loss: 0.5609 - accuracy: 0.6966\n",
            "Epoch 44/150\n",
            "62/62 [==============================] - 0s 2ms/step - loss: 0.5512 - accuracy: 0.7243\n",
            "Epoch 45/150\n",
            "62/62 [==============================] - 0s 2ms/step - loss: 0.5532 - accuracy: 0.7145\n",
            "Epoch 46/150\n",
            "62/62 [==============================] - 0s 1ms/step - loss: 0.5500 - accuracy: 0.7080\n",
            "Epoch 47/150\n",
            "62/62 [==============================] - 0s 1ms/step - loss: 0.5603 - accuracy: 0.7276\n",
            "Epoch 48/150\n",
            "62/62 [==============================] - 0s 2ms/step - loss: 0.5711 - accuracy: 0.7129\n",
            "Epoch 49/150\n",
            "62/62 [==============================] - 0s 2ms/step - loss: 0.5412 - accuracy: 0.7194\n",
            "Epoch 50/150\n",
            "62/62 [==============================] - 0s 2ms/step - loss: 0.5784 - accuracy: 0.7129\n",
            "Epoch 51/150\n",
            "62/62 [==============================] - 0s 1ms/step - loss: 0.5508 - accuracy: 0.7210\n",
            "Epoch 52/150\n",
            "62/62 [==============================] - 0s 2ms/step - loss: 0.5632 - accuracy: 0.6868\n",
            "Epoch 53/150\n",
            "62/62 [==============================] - 0s 2ms/step - loss: 0.5509 - accuracy: 0.7210\n",
            "Epoch 54/150\n",
            "62/62 [==============================] - 0s 2ms/step - loss: 0.5432 - accuracy: 0.7243\n",
            "Epoch 55/150\n",
            "62/62 [==============================] - 0s 2ms/step - loss: 0.5485 - accuracy: 0.7308\n",
            "Epoch 56/150\n",
            "62/62 [==============================] - 0s 1ms/step - loss: 0.5541 - accuracy: 0.7145\n",
            "Epoch 57/150\n",
            "62/62 [==============================] - 0s 1ms/step - loss: 0.5401 - accuracy: 0.7423\n",
            "Epoch 58/150\n",
            "62/62 [==============================] - 0s 2ms/step - loss: 0.5525 - accuracy: 0.7308\n",
            "Epoch 59/150\n",
            "62/62 [==============================] - 0s 2ms/step - loss: 0.5431 - accuracy: 0.7292\n",
            "Epoch 60/150\n",
            "62/62 [==============================] - 0s 1ms/step - loss: 0.5430 - accuracy: 0.7210\n",
            "Epoch 61/150\n",
            "62/62 [==============================] - 0s 1ms/step - loss: 0.5233 - accuracy: 0.7471\n",
            "Epoch 62/150\n",
            "62/62 [==============================] - 0s 2ms/step - loss: 0.5470 - accuracy: 0.7227\n",
            "Epoch 63/150\n",
            "62/62 [==============================] - 0s 2ms/step - loss: 0.5265 - accuracy: 0.7602\n",
            "Epoch 64/150\n",
            "62/62 [==============================] - 0s 1ms/step - loss: 0.5485 - accuracy: 0.7308\n",
            "Epoch 65/150\n",
            "62/62 [==============================] - 0s 1ms/step - loss: 0.5296 - accuracy: 0.7390\n",
            "Epoch 66/150\n",
            "62/62 [==============================] - 0s 2ms/step - loss: 0.5301 - accuracy: 0.7341\n",
            "Epoch 67/150\n",
            "62/62 [==============================] - 0s 1ms/step - loss: 0.5411 - accuracy: 0.7292\n",
            "Epoch 68/150\n",
            "62/62 [==============================] - 0s 2ms/step - loss: 0.5304 - accuracy: 0.7276\n",
            "Epoch 69/150\n",
            "62/62 [==============================] - 0s 1ms/step - loss: 0.5195 - accuracy: 0.7341\n",
            "Epoch 70/150\n",
            "62/62 [==============================] - 0s 2ms/step - loss: 0.5171 - accuracy: 0.7488\n",
            "Epoch 71/150\n",
            "62/62 [==============================] - 0s 1ms/step - loss: 0.5031 - accuracy: 0.7423\n",
            "Epoch 72/150\n",
            "62/62 [==============================] - 0s 1ms/step - loss: 0.5321 - accuracy: 0.7504\n",
            "Epoch 73/150\n",
            "62/62 [==============================] - 0s 2ms/step - loss: 0.5137 - accuracy: 0.7439\n",
            "Epoch 74/150\n",
            "62/62 [==============================] - 0s 1ms/step - loss: 0.5129 - accuracy: 0.7374\n",
            "Epoch 75/150\n",
            "62/62 [==============================] - 0s 2ms/step - loss: 0.5479 - accuracy: 0.7227\n",
            "Epoch 76/150\n",
            "62/62 [==============================] - 0s 2ms/step - loss: 0.5284 - accuracy: 0.7357\n",
            "Epoch 77/150\n",
            "62/62 [==============================] - 0s 1ms/step - loss: 0.5383 - accuracy: 0.7406\n",
            "Epoch 78/150\n",
            "62/62 [==============================] - 0s 2ms/step - loss: 0.5308 - accuracy: 0.7276\n",
            "Epoch 79/150\n",
            "62/62 [==============================] - 0s 1ms/step - loss: 0.5113 - accuracy: 0.7504\n",
            "Epoch 80/150\n",
            "62/62 [==============================] - 0s 1ms/step - loss: 0.5223 - accuracy: 0.7423\n",
            "Epoch 81/150\n",
            "62/62 [==============================] - 0s 2ms/step - loss: 0.5181 - accuracy: 0.7488\n",
            "Epoch 82/150\n",
            "62/62 [==============================] - 0s 1ms/step - loss: 0.5036 - accuracy: 0.7602\n",
            "Epoch 83/150\n",
            "62/62 [==============================] - 0s 1ms/step - loss: 0.5176 - accuracy: 0.7520\n",
            "Epoch 84/150\n",
            "62/62 [==============================] - 0s 2ms/step - loss: 0.4980 - accuracy: 0.7504\n",
            "Epoch 85/150\n",
            "62/62 [==============================] - 0s 2ms/step - loss: 0.5186 - accuracy: 0.7602\n",
            "Epoch 86/150\n",
            "62/62 [==============================] - 0s 2ms/step - loss: 0.5117 - accuracy: 0.7357\n",
            "Epoch 87/150\n",
            "62/62 [==============================] - 0s 2ms/step - loss: 0.4994 - accuracy: 0.7520\n",
            "Epoch 88/150\n",
            "62/62 [==============================] - 0s 2ms/step - loss: 0.5167 - accuracy: 0.7390\n",
            "Epoch 89/150\n",
            "62/62 [==============================] - 0s 2ms/step - loss: 0.5163 - accuracy: 0.7455\n",
            "Epoch 90/150\n",
            "62/62 [==============================] - 0s 2ms/step - loss: 0.4990 - accuracy: 0.7651\n",
            "Epoch 91/150\n",
            "62/62 [==============================] - 0s 2ms/step - loss: 0.5168 - accuracy: 0.7374\n",
            "Epoch 92/150\n",
            "62/62 [==============================] - 0s 2ms/step - loss: 0.5124 - accuracy: 0.7488\n",
            "Epoch 93/150\n",
            "62/62 [==============================] - 0s 2ms/step - loss: 0.4966 - accuracy: 0.7569\n",
            "Epoch 94/150\n",
            "62/62 [==============================] - 0s 2ms/step - loss: 0.5001 - accuracy: 0.7635\n",
            "Epoch 95/150\n",
            "62/62 [==============================] - 0s 2ms/step - loss: 0.4952 - accuracy: 0.7504\n",
            "Epoch 96/150\n",
            "62/62 [==============================] - 0s 2ms/step - loss: 0.5026 - accuracy: 0.7504\n",
            "Epoch 97/150\n",
            "62/62 [==============================] - 0s 2ms/step - loss: 0.4879 - accuracy: 0.7651\n",
            "Epoch 98/150\n",
            "62/62 [==============================] - 0s 2ms/step - loss: 0.5065 - accuracy: 0.7504\n",
            "Epoch 99/150\n",
            "62/62 [==============================] - 0s 2ms/step - loss: 0.5100 - accuracy: 0.7504\n",
            "Epoch 100/150\n",
            "62/62 [==============================] - 0s 2ms/step - loss: 0.4911 - accuracy: 0.7651\n",
            "Epoch 101/150\n",
            "62/62 [==============================] - 0s 2ms/step - loss: 0.5013 - accuracy: 0.7488\n",
            "Epoch 102/150\n",
            "62/62 [==============================] - 0s 1ms/step - loss: 0.5871 - accuracy: 0.7162\n",
            "Epoch 103/150\n",
            "62/62 [==============================] - 0s 2ms/step - loss: 0.5005 - accuracy: 0.7488\n",
            "Epoch 104/150\n",
            "62/62 [==============================] - 0s 2ms/step - loss: 0.4990 - accuracy: 0.7618\n",
            "Epoch 105/150\n",
            "62/62 [==============================] - 0s 1ms/step - loss: 0.4990 - accuracy: 0.7651\n",
            "Epoch 106/150\n",
            "62/62 [==============================] - 0s 2ms/step - loss: 0.4903 - accuracy: 0.7553\n",
            "Epoch 107/150\n",
            "62/62 [==============================] - 0s 2ms/step - loss: 0.4997 - accuracy: 0.7635\n",
            "Epoch 108/150\n",
            "62/62 [==============================] - 0s 2ms/step - loss: 0.4830 - accuracy: 0.7732\n",
            "Epoch 109/150\n",
            "62/62 [==============================] - 0s 2ms/step - loss: 0.5010 - accuracy: 0.7569\n",
            "Epoch 110/150\n",
            "62/62 [==============================] - 0s 2ms/step - loss: 0.5147 - accuracy: 0.7423\n",
            "Epoch 111/150\n",
            "62/62 [==============================] - 0s 1ms/step - loss: 0.4931 - accuracy: 0.7716\n",
            "Epoch 112/150\n",
            "62/62 [==============================] - 0s 2ms/step - loss: 0.5103 - accuracy: 0.7520\n",
            "Epoch 113/150\n",
            "62/62 [==============================] - 0s 2ms/step - loss: 0.4927 - accuracy: 0.7700\n",
            "Epoch 114/150\n",
            "62/62 [==============================] - 0s 1ms/step - loss: 0.5037 - accuracy: 0.7602\n",
            "Epoch 115/150\n",
            "62/62 [==============================] - 0s 2ms/step - loss: 0.4915 - accuracy: 0.7586\n",
            "Epoch 116/150\n",
            "62/62 [==============================] - 0s 2ms/step - loss: 0.4975 - accuracy: 0.7537\n",
            "Epoch 117/150\n",
            "62/62 [==============================] - 0s 2ms/step - loss: 0.4889 - accuracy: 0.7553\n",
            "Epoch 118/150\n",
            "62/62 [==============================] - 0s 2ms/step - loss: 0.4829 - accuracy: 0.7684\n",
            "Epoch 119/150\n",
            "62/62 [==============================] - 0s 2ms/step - loss: 0.4939 - accuracy: 0.7569\n",
            "Epoch 120/150\n",
            "62/62 [==============================] - 0s 2ms/step - loss: 0.4851 - accuracy: 0.7569\n",
            "Epoch 121/150\n",
            "62/62 [==============================] - 0s 2ms/step - loss: 0.4945 - accuracy: 0.7602\n",
            "Epoch 122/150\n",
            "62/62 [==============================] - 0s 1ms/step - loss: 0.4953 - accuracy: 0.7569\n",
            "Epoch 123/150\n",
            "62/62 [==============================] - 0s 1ms/step - loss: 0.4848 - accuracy: 0.7520\n",
            "Epoch 124/150\n",
            "62/62 [==============================] - 0s 2ms/step - loss: 0.4903 - accuracy: 0.7716\n",
            "Epoch 125/150\n",
            "62/62 [==============================] - 0s 2ms/step - loss: 0.4908 - accuracy: 0.7667\n",
            "Epoch 126/150\n",
            "62/62 [==============================] - 0s 1ms/step - loss: 0.4907 - accuracy: 0.7602\n",
            "Epoch 127/150\n",
            "62/62 [==============================] - 0s 2ms/step - loss: 0.4959 - accuracy: 0.7504\n",
            "Epoch 128/150\n",
            "62/62 [==============================] - 0s 1ms/step - loss: 0.4798 - accuracy: 0.7732\n",
            "Epoch 129/150\n",
            "62/62 [==============================] - 0s 2ms/step - loss: 0.4851 - accuracy: 0.7798\n",
            "Epoch 130/150\n",
            "62/62 [==============================] - 0s 2ms/step - loss: 0.4845 - accuracy: 0.7651\n",
            "Epoch 131/150\n",
            "62/62 [==============================] - 0s 2ms/step - loss: 0.4880 - accuracy: 0.7602\n",
            "Epoch 132/150\n",
            "62/62 [==============================] - 0s 1ms/step - loss: 0.4725 - accuracy: 0.7700\n",
            "Epoch 133/150\n",
            "62/62 [==============================] - 0s 2ms/step - loss: 0.4868 - accuracy: 0.7667\n",
            "Epoch 134/150\n",
            "62/62 [==============================] - 0s 2ms/step - loss: 0.4937 - accuracy: 0.7618\n",
            "Epoch 135/150\n",
            "62/62 [==============================] - 0s 2ms/step - loss: 0.4741 - accuracy: 0.7667\n",
            "Epoch 136/150\n",
            "62/62 [==============================] - 0s 2ms/step - loss: 0.4857 - accuracy: 0.7798\n",
            "Epoch 137/150\n",
            "62/62 [==============================] - 0s 2ms/step - loss: 0.4859 - accuracy: 0.7732\n",
            "Epoch 138/150\n",
            "62/62 [==============================] - 0s 2ms/step - loss: 0.4978 - accuracy: 0.7569\n",
            "Epoch 139/150\n",
            "62/62 [==============================] - 0s 1ms/step - loss: 0.4844 - accuracy: 0.7618\n",
            "Epoch 140/150\n",
            "62/62 [==============================] - 0s 2ms/step - loss: 0.4802 - accuracy: 0.7765\n",
            "Epoch 141/150\n",
            "62/62 [==============================] - 0s 2ms/step - loss: 0.4851 - accuracy: 0.7700\n",
            "Epoch 142/150\n",
            "62/62 [==============================] - 0s 2ms/step - loss: 0.4756 - accuracy: 0.7781\n",
            "Epoch 143/150\n",
            "62/62 [==============================] - 0s 1ms/step - loss: 0.4743 - accuracy: 0.7716\n",
            "Epoch 144/150\n",
            "62/62 [==============================] - 0s 2ms/step - loss: 0.4818 - accuracy: 0.7635\n",
            "Epoch 145/150\n",
            "62/62 [==============================] - 0s 2ms/step - loss: 0.4816 - accuracy: 0.7684\n",
            "Epoch 146/150\n",
            "62/62 [==============================] - 0s 2ms/step - loss: 0.4869 - accuracy: 0.7667\n",
            "Epoch 147/150\n",
            "62/62 [==============================] - 0s 2ms/step - loss: 0.4982 - accuracy: 0.7504\n",
            "Epoch 148/150\n",
            "62/62 [==============================] - 0s 2ms/step - loss: 0.4787 - accuracy: 0.7635\n",
            "Epoch 149/150\n",
            "62/62 [==============================] - 0s 2ms/step - loss: 0.4739 - accuracy: 0.7814\n",
            "Epoch 150/150\n",
            "62/62 [==============================] - 0s 2ms/step - loss: 0.4673 - accuracy: 0.7781\n"
          ]
        }
      ]
    },
    {
      "cell_type": "code",
      "metadata": {
        "colab": {
          "base_uri": "https://localhost:8080/"
        },
        "id": "3mofxJkDANqY",
        "outputId": "6079ef1d-cbec-4db4-a5b0-5f5504f7bd5f"
      },
      "source": [
        "# evaluate the keras model\n",
        "_, accuracy = model.evaluate(X_test, y_test)\n",
        "print('Accuracy: %.2f' % (accuracy*100))"
      ],
      "execution_count": 82,
      "outputs": [
        {
          "output_type": "stream",
          "name": "stdout",
          "text": [
            "5/5 [==============================] - 0s 2ms/step - loss: 0.5146 - accuracy: 0.7532\n",
            "Accuracy: 75.32\n"
          ]
        }
      ]
    },
    {
      "cell_type": "code",
      "metadata": {
        "id": "H4HFxHAGANsn"
      },
      "source": [
        ""
      ],
      "execution_count": null,
      "outputs": []
    }
  ]
}